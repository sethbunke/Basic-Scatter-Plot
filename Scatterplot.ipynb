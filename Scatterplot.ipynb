{
 "cells": [
  {
   "cell_type": "code",
   "execution_count": 1,
   "metadata": {
    "collapsed": false
   },
   "outputs": [
    {
     "data": {
      "text/html": [
       "<script>requirejs.config({paths: { 'plotly': ['https://cdn.plot.ly/plotly-latest.min']},});if(!window.Plotly) {{require(['plotly'],function(plotly) {window.Plotly=plotly;});}}</script>"
      ],
      "text/vnd.plotly.v1+html": [
       "<script>requirejs.config({paths: { 'plotly': ['https://cdn.plot.ly/plotly-latest.min']},});if(!window.Plotly) {{require(['plotly'],function(plotly) {window.Plotly=plotly;});}}</script>"
      ]
     },
     "metadata": {},
     "output_type": "display_data"
    }
   ],
   "source": [
    "import pandas as pd\n",
    "import numpy as np\n",
    "import sys\n",
    "import os\n",
    "import random\n",
    "# from pathlib import Path\n",
    "# import imageio\n",
    "# import skimage\n",
    "# import skimage.io\n",
    "# import skimage.transform\n",
    "import matplotlib.pyplot as plt\n",
    "# import seaborn as sns\n",
    "from plotly.offline import download_plotlyjs, init_notebook_mode, plot, iplot\n",
    "init_notebook_mode(connected=True)\n",
    "import plotly.graph_objs as go\n",
    "import plotly.figure_factory as ff\n",
    "from plotly import tools"
   ]
  },
  {
   "cell_type": "code",
   "execution_count": 2,
   "metadata": {
    "collapsed": true
   },
   "outputs": [],
   "source": [
    "# pip install pytz\n",
    "# pip install pyparsing\n",
    "# pip install cycler\n",
    "# pip install plotly"
   ]
  },
  {
   "cell_type": "code",
   "execution_count": 3,
   "metadata": {
    "collapsed": true
   },
   "outputs": [],
   "source": [
    "honey_bee_df=pd.read_csv('./bee_data.csv')"
   ]
  },
  {
   "cell_type": "code",
   "execution_count": 4,
   "metadata": {
    "collapsed": false
   },
   "outputs": [
    {
     "data": {
      "text/html": [
       "<div>\n",
       "<style scoped>\n",
       "    .dataframe tbody tr th:only-of-type {\n",
       "        vertical-align: middle;\n",
       "    }\n",
       "\n",
       "    .dataframe tbody tr th {\n",
       "        vertical-align: top;\n",
       "    }\n",
       "\n",
       "    .dataframe thead th {\n",
       "        text-align: right;\n",
       "    }\n",
       "</style>\n",
       "<table border=\"1\" class=\"dataframe\">\n",
       "  <thead>\n",
       "    <tr style=\"text-align: right;\">\n",
       "      <th></th>\n",
       "      <th>file</th>\n",
       "      <th>date</th>\n",
       "      <th>time</th>\n",
       "      <th>location</th>\n",
       "      <th>zip code</th>\n",
       "      <th>subspecies</th>\n",
       "      <th>health</th>\n",
       "      <th>pollen_carrying</th>\n",
       "      <th>caste</th>\n",
       "    </tr>\n",
       "  </thead>\n",
       "  <tbody>\n",
       "    <tr>\n",
       "      <th>0</th>\n",
       "      <td>041_066.png</td>\n",
       "      <td>8/28/18</td>\n",
       "      <td>16:07</td>\n",
       "      <td>Alvin, TX, USA</td>\n",
       "      <td>77511</td>\n",
       "      <td>-1</td>\n",
       "      <td>hive being robbed</td>\n",
       "      <td>False</td>\n",
       "      <td>worker</td>\n",
       "    </tr>\n",
       "    <tr>\n",
       "      <th>1</th>\n",
       "      <td>041_072.png</td>\n",
       "      <td>8/28/18</td>\n",
       "      <td>16:07</td>\n",
       "      <td>Alvin, TX, USA</td>\n",
       "      <td>77511</td>\n",
       "      <td>-1</td>\n",
       "      <td>hive being robbed</td>\n",
       "      <td>False</td>\n",
       "      <td>worker</td>\n",
       "    </tr>\n",
       "    <tr>\n",
       "      <th>2</th>\n",
       "      <td>041_073.png</td>\n",
       "      <td>8/28/18</td>\n",
       "      <td>16:07</td>\n",
       "      <td>Alvin, TX, USA</td>\n",
       "      <td>77511</td>\n",
       "      <td>-1</td>\n",
       "      <td>hive being robbed</td>\n",
       "      <td>False</td>\n",
       "      <td>worker</td>\n",
       "    </tr>\n",
       "    <tr>\n",
       "      <th>3</th>\n",
       "      <td>041_067.png</td>\n",
       "      <td>8/28/18</td>\n",
       "      <td>16:07</td>\n",
       "      <td>Alvin, TX, USA</td>\n",
       "      <td>77511</td>\n",
       "      <td>-1</td>\n",
       "      <td>hive being robbed</td>\n",
       "      <td>False</td>\n",
       "      <td>worker</td>\n",
       "    </tr>\n",
       "    <tr>\n",
       "      <th>4</th>\n",
       "      <td>041_059.png</td>\n",
       "      <td>8/28/18</td>\n",
       "      <td>16:07</td>\n",
       "      <td>Alvin, TX, USA</td>\n",
       "      <td>77511</td>\n",
       "      <td>-1</td>\n",
       "      <td>hive being robbed</td>\n",
       "      <td>False</td>\n",
       "      <td>worker</td>\n",
       "    </tr>\n",
       "  </tbody>\n",
       "</table>\n",
       "</div>"
      ],
      "text/plain": [
       "          file     date   time        location  zip code subspecies  \\\n",
       "0  041_066.png  8/28/18  16:07  Alvin, TX, USA     77511         -1   \n",
       "1  041_072.png  8/28/18  16:07  Alvin, TX, USA     77511         -1   \n",
       "2  041_073.png  8/28/18  16:07  Alvin, TX, USA     77511         -1   \n",
       "3  041_067.png  8/28/18  16:07  Alvin, TX, USA     77511         -1   \n",
       "4  041_059.png  8/28/18  16:07  Alvin, TX, USA     77511         -1   \n",
       "\n",
       "              health  pollen_carrying   caste  \n",
       "0  hive being robbed            False  worker  \n",
       "1  hive being robbed            False  worker  \n",
       "2  hive being robbed            False  worker  \n",
       "3  hive being robbed            False  worker  \n",
       "4  hive being robbed            False  worker  "
      ]
     },
     "execution_count": 4,
     "metadata": {},
     "output_type": "execute_result"
    }
   ],
   "source": [
    "honey_bee_df.head()"
   ]
  },
  {
   "cell_type": "code",
   "execution_count": 5,
   "metadata": {
    "collapsed": false
   },
   "outputs": [
    {
     "data": {
      "text/html": [
       "<div>\n",
       "<style scoped>\n",
       "    .dataframe tbody tr th:only-of-type {\n",
       "        vertical-align: middle;\n",
       "    }\n",
       "\n",
       "    .dataframe tbody tr th {\n",
       "        vertical-align: top;\n",
       "    }\n",
       "\n",
       "    .dataframe thead th {\n",
       "        text-align: right;\n",
       "    }\n",
       "</style>\n",
       "<table border=\"1\" class=\"dataframe\">\n",
       "  <thead>\n",
       "    <tr style=\"text-align: right;\">\n",
       "      <th></th>\n",
       "      <th>Total</th>\n",
       "      <th>Percent</th>\n",
       "    </tr>\n",
       "  </thead>\n",
       "  <tbody>\n",
       "    <tr>\n",
       "      <th>caste</th>\n",
       "      <td>0</td>\n",
       "      <td>0.0</td>\n",
       "    </tr>\n",
       "    <tr>\n",
       "      <th>pollen_carrying</th>\n",
       "      <td>0</td>\n",
       "      <td>0.0</td>\n",
       "    </tr>\n",
       "    <tr>\n",
       "      <th>health</th>\n",
       "      <td>0</td>\n",
       "      <td>0.0</td>\n",
       "    </tr>\n",
       "    <tr>\n",
       "      <th>subspecies</th>\n",
       "      <td>0</td>\n",
       "      <td>0.0</td>\n",
       "    </tr>\n",
       "    <tr>\n",
       "      <th>zip code</th>\n",
       "      <td>0</td>\n",
       "      <td>0.0</td>\n",
       "    </tr>\n",
       "    <tr>\n",
       "      <th>location</th>\n",
       "      <td>0</td>\n",
       "      <td>0.0</td>\n",
       "    </tr>\n",
       "    <tr>\n",
       "      <th>time</th>\n",
       "      <td>0</td>\n",
       "      <td>0.0</td>\n",
       "    </tr>\n",
       "    <tr>\n",
       "      <th>date</th>\n",
       "      <td>0</td>\n",
       "      <td>0.0</td>\n",
       "    </tr>\n",
       "    <tr>\n",
       "      <th>file</th>\n",
       "      <td>0</td>\n",
       "      <td>0.0</td>\n",
       "    </tr>\n",
       "  </tbody>\n",
       "</table>\n",
       "</div>"
      ],
      "text/plain": [
       "                 Total  Percent\n",
       "caste                0      0.0\n",
       "pollen_carrying      0      0.0\n",
       "health               0      0.0\n",
       "subspecies           0      0.0\n",
       "zip code             0      0.0\n",
       "location             0      0.0\n",
       "time                 0      0.0\n",
       "date                 0      0.0\n",
       "file                 0      0.0"
      ]
     },
     "execution_count": 5,
     "metadata": {},
     "output_type": "execute_result"
    }
   ],
   "source": [
    "def missing_data(data):\n",
    "    total = data.isnull().sum().sort_values(ascending = False)\n",
    "    percent = (data.isnull().sum()/data.isnull().count()*100).sort_values(ascending = False)\n",
    "    return pd.concat([total, percent], axis=1, keys=['Total', 'Percent'])\n",
    "missing_data(honey_bee_df)"
   ]
  },
  {
   "cell_type": "code",
   "execution_count": 6,
   "metadata": {
    "collapsed": true
   },
   "outputs": [],
   "source": [
    "honey_bee_df['date_time'] = pd.to_datetime(honey_bee_df['date'] + ' ' + honey_bee_df['time'])\n",
    "honey_bee_df[\"year\"] = honey_bee_df['date_time'].dt.year\n",
    "honey_bee_df[\"month\"] = honey_bee_df['date_time'].dt.month\n",
    "honey_bee_df[\"day\"] = honey_bee_df['date_time'].dt.day\n",
    "honey_bee_df[\"hour\"] = honey_bee_df['date_time'].dt.hour\n",
    "honey_bee_df[\"minute\"] = honey_bee_df['date_time'].dt.minute"
   ]
  },
  {
   "cell_type": "code",
   "execution_count": 7,
   "metadata": {
    "collapsed": false
   },
   "outputs": [],
   "source": [
    "tmp = honey_bee_df.groupby(['date_time', 'hour'])['location'].value_counts()\n",
    "df = pd.DataFrame(data={'Images': tmp.values}, index=tmp.index).reset_index()\n",
    "hover_text = []\n",
    "for index, row in df.iterrows():\n",
    "    hover_text.append(('Date/time: {}<br>'+\n",
    "                      'Hour: {}<br>'+\n",
    "                      'Location: {}<br>'+\n",
    "                      'Images: {}').format(row['date_time'],\n",
    "                                            row['hour'],\n",
    "                                            row['location'],\n",
    "                                            row['Images']))\n",
    "df['hover_text'] = hover_text\n",
    "locations = (honey_bee_df.groupby(['location'])['location'].nunique()).index\n",
    "data = []"
   ]
  },
  {
   "cell_type": "code",
   "execution_count": 10,
   "metadata": {
    "collapsed": false
   },
   "outputs": [
    {
     "data": {
      "application/vnd.plotly.v1+json": {
       "data": [
        {
         "marker": {
          "line": {
           "width": 2
          },
          "size": [
           433,
           24,
           29,
           19,
           28,
           181,
           23
          ],
          "sizemode": "area",
          "sizeref": 0.2,
          "symbol": "circle"
         },
         "mode": "markers",
         "name": "Alvin, TX, USA",
         "text": [
          "Date/time: 2018-08-17 17:50:00<br>Hour: 17<br>Location: Alvin, TX, USA<br>Images: 433",
          "Date/time: 2018-08-18 12:36:00<br>Hour: 12<br>Location: Alvin, TX, USA<br>Images: 24",
          "Date/time: 2018-08-21 13:49:00<br>Hour: 13<br>Location: Alvin, TX, USA<br>Images: 29",
          "Date/time: 2018-08-28 09:54:00<br>Hour: 9<br>Location: Alvin, TX, USA<br>Images: 19",
          "Date/time: 2018-08-28 10:53:00<br>Hour: 10<br>Location: Alvin, TX, USA<br>Images: 28",
          "Date/time: 2018-08-28 16:07:00<br>Hour: 16<br>Location: Alvin, TX, USA<br>Images: 181",
          "Date/time: 2018-09-08 16:08:00<br>Hour: 16<br>Location: Alvin, TX, USA<br>Images: 23"
         ],
         "type": "scatter",
         "uid": "d99e27b6-de32-11e8-ab4d-000d3a6173df",
         "x": [
          "2018-08-17 17:50:00",
          "2018-08-18 12:36:00",
          "2018-08-21 13:49:00",
          "2018-08-28 09:54:00",
          "2018-08-28 10:53:00",
          "2018-08-28 16:07:00",
          "2018-09-08 16:08:00"
         ],
         "y": [
          17,
          12,
          13,
          9,
          10,
          16,
          16
         ]
        },
        {
         "marker": {
          "line": {
           "width": 2
          },
          "size": [
           579
          ],
          "sizemode": "area",
          "sizeref": 0.2,
          "symbol": "circle"
         },
         "mode": "markers",
         "name": "Athens, GA, USA",
         "text": [
          "Date/time: 2018-08-21 15:56:00<br>Hour: 15<br>Location: Athens, GA, USA<br>Images: 579"
         ],
         "type": "scatter",
         "uid": "d99e27b7-de32-11e8-b746-000d3a6173df",
         "x": [
          "2018-08-21 15:56:00"
         ],
         "y": [
          15
         ]
        },
        {
         "marker": {
          "line": {
           "width": 2
          },
          "size": [
           472
          ],
          "sizemode": "area",
          "sizeref": 0.2,
          "symbol": "circle"
         },
         "mode": "markers",
         "name": "Athens, Georgia, USA",
         "text": [
          "Date/time: 2018-08-18 12:30:00<br>Hour: 12<br>Location: Athens, Georgia, USA<br>Images: 472"
         ],
         "type": "scatter",
         "uid": "d99e4ec6-de32-11e8-8622-000d3a6173df",
         "x": [
          "2018-08-18 12:30:00"
         ],
         "y": [
          12
         ]
        },
        {
         "marker": {
          "line": {
           "width": 2
          },
          "size": [
           340,
           149,
           12,
           435,
           37
          ],
          "sizemode": "area",
          "sizeref": 0.2,
          "symbol": "circle"
         },
         "mode": "markers",
         "name": "Des Moines, IA, USA",
         "text": [
          "Date/time: 2018-08-19 12:46:00<br>Hour: 12<br>Location: Des Moines, IA, USA<br>Images: 340",
          "Date/time: 2018-08-19 15:46:00<br>Hour: 15<br>Location: Des Moines, IA, USA<br>Images: 149",
          "Date/time: 2018-08-19 18:30:00<br>Hour: 18<br>Location: Des Moines, IA, USA<br>Images: 12",
          "Date/time: 2018-08-21 09:00:00<br>Hour: 9<br>Location: Des Moines, IA, USA<br>Images: 435",
          "Date/time: 2018-08-21 09:30:00<br>Hour: 9<br>Location: Des Moines, IA, USA<br>Images: 37"
         ],
         "type": "scatter",
         "uid": "d99e4ec7-de32-11e8-b31f-000d3a6173df",
         "x": [
          "2018-08-19 12:46:00",
          "2018-08-19 15:46:00",
          "2018-08-19 18:30:00",
          "2018-08-21 09:00:00",
          "2018-08-21 09:30:00"
         ],
         "y": [
          12,
          15,
          18,
          9,
          9
         ]
        },
        {
         "marker": {
          "line": {
           "width": 2
          },
          "size": [
           92
          ],
          "sizemode": "area",
          "sizeref": 0.2,
          "symbol": "circle"
         },
         "mode": "markers",
         "name": "Keene, NH, USA",
         "text": [
          "Date/time: 2018-08-25 14:00:00<br>Hour: 14<br>Location: Keene, NH, USA<br>Images: 92"
         ],
         "type": "scatter",
         "uid": "d99e4ec8-de32-11e8-92ff-000d3a6173df",
         "x": [
          "2018-08-25 14:00:00"
         ],
         "y": [
          14
         ]
        },
        {
         "marker": {
          "line": {
           "width": 2
          },
          "size": [
           170
          ],
          "sizemode": "area",
          "sizeref": 0.2,
          "symbol": "circle"
         },
         "mode": "markers",
         "name": "New Orleans, LA, USA",
         "text": [
          "Date/time: 2018-08-16 08:20:00<br>Hour: 8<br>Location: New Orleans, LA, USA<br>Images: 170"
         ],
         "type": "scatter",
         "uid": "d99e4ec9-de32-11e8-a9d5-000d3a6173df",
         "x": [
          "2018-08-16 08:20:00"
         ],
         "y": [
          8
         ]
        },
        {
         "marker": {
          "line": {
           "width": 2
          },
          "size": [
           15,
           13,
           10,
           111
          ],
          "sizemode": "area",
          "sizeref": 0.2,
          "symbol": "circle"
         },
         "mode": "markers",
         "name": "San Jose, CA, USA",
         "text": [
          "Date/time: 2018-08-20 09:47:00<br>Hour: 9<br>Location: San Jose, CA, USA<br>Images: 15",
          "Date/time: 2018-08-20 09:53:00<br>Hour: 9<br>Location: San Jose, CA, USA<br>Images: 13",
          "Date/time: 2018-08-20 10:03:00<br>Hour: 10<br>Location: San Jose, CA, USA<br>Images: 10",
          "Date/time: 2018-08-20 11:55:00<br>Hour: 11<br>Location: San Jose, CA, USA<br>Images: 111"
         ],
         "type": "scatter",
         "uid": "d99e4eca-de32-11e8-9537-000d3a6173df",
         "x": [
          "2018-08-20 09:47:00",
          "2018-08-20 09:53:00",
          "2018-08-20 10:03:00",
          "2018-08-20 11:55:00"
         ],
         "y": [
          9,
          9,
          10,
          11
         ]
        },
        {
         "marker": {
          "line": {
           "width": 2
          },
          "size": [
           114,
           248,
           50,
           303,
           3,
           15,
           18,
           460,
           124,
           19,
           303,
           104,
           211,
           11,
           7,
           10
          ],
          "sizemode": "area",
          "sizeref": 0.2,
          "symbol": "circle"
         },
         "mode": "markers",
         "name": "Saratoga, CA, USA",
         "text": [
          "Date/time: 2018-07-02 13:57:00<br>Hour: 13<br>Location: Saratoga, CA, USA<br>Images: 114",
          "Date/time: 2018-07-02 15:30:00<br>Hour: 15<br>Location: Saratoga, CA, USA<br>Images: 248",
          "Date/time: 2018-07-03 16:10:00<br>Hour: 16<br>Location: Saratoga, CA, USA<br>Images: 50",
          "Date/time: 2018-07-07 12:56:00<br>Hour: 12<br>Location: Saratoga, CA, USA<br>Images: 303",
          "Date/time: 2018-07-07 14:00:00<br>Hour: 14<br>Location: Saratoga, CA, USA<br>Images: 3",
          "Date/time: 2018-07-07 14:35:00<br>Hour: 14<br>Location: Saratoga, CA, USA<br>Images: 15",
          "Date/time: 2018-08-06 11:25:00<br>Hour: 11<br>Location: Saratoga, CA, USA<br>Images: 18",
          "Date/time: 2018-08-06 13:19:00<br>Hour: 13<br>Location: Saratoga, CA, USA<br>Images: 460",
          "Date/time: 2018-08-06 13:21:00<br>Hour: 13<br>Location: Saratoga, CA, USA<br>Images: 124",
          "Date/time: 2018-08-06 14:48:00<br>Hour: 14<br>Location: Saratoga, CA, USA<br>Images: 19",
          "Date/time: 2018-08-06 19:19:00<br>Hour: 19<br>Location: Saratoga, CA, USA<br>Images: 303",
          "Date/time: 2018-08-08 21:13:00<br>Hour: 21<br>Location: Saratoga, CA, USA<br>Images: 104",
          "Date/time: 2018-08-10 13:54:00<br>Hour: 13<br>Location: Saratoga, CA, USA<br>Images: 211",
          "Date/time: 2018-08-13 11:00:00<br>Hour: 11<br>Location: Saratoga, CA, USA<br>Images: 11",
          "Date/time: 2018-08-13 11:11:00<br>Hour: 11<br>Location: Saratoga, CA, USA<br>Images: 7",
          "Date/time: 2018-08-13 11:20:00<br>Hour: 11<br>Location: Saratoga, CA, USA<br>Images: 10"
         ],
         "type": "scatter",
         "uid": "d99e4ecb-de32-11e8-8cc5-000d3a6173df",
         "x": [
          "2018-07-02 13:57:00",
          "2018-07-02 15:30:00",
          "2018-07-03 16:10:00",
          "2018-07-07 12:56:00",
          "2018-07-07 14:00:00",
          "2018-07-07 14:35:00",
          "2018-08-06 11:25:00",
          "2018-08-06 13:19:00",
          "2018-08-06 13:21:00",
          "2018-08-06 14:48:00",
          "2018-08-06 19:19:00",
          "2018-08-08 21:13:00",
          "2018-08-10 13:54:00",
          "2018-08-13 11:00:00",
          "2018-08-13 11:11:00",
          "2018-08-13 11:20:00"
         ],
         "y": [
          13,
          15,
          16,
          12,
          14,
          14,
          11,
          13,
          13,
          14,
          19,
          21,
          13,
          11,
          11,
          11
         ]
        },
        {
         "marker": {
          "line": {
           "width": 2
          },
          "size": [
           433,
           24,
           29,
           19,
           28,
           181,
           23
          ],
          "sizemode": "area",
          "sizeref": 0.2,
          "symbol": "circle"
         },
         "mode": "markers",
         "name": "Alvin, TX, USA",
         "text": [
          "Date/time: 2018-08-17 17:50:00<br>Hour: 17<br>Location: Alvin, TX, USA<br>Images: 433",
          "Date/time: 2018-08-18 12:36:00<br>Hour: 12<br>Location: Alvin, TX, USA<br>Images: 24",
          "Date/time: 2018-08-21 13:49:00<br>Hour: 13<br>Location: Alvin, TX, USA<br>Images: 29",
          "Date/time: 2018-08-28 09:54:00<br>Hour: 9<br>Location: Alvin, TX, USA<br>Images: 19",
          "Date/time: 2018-08-28 10:53:00<br>Hour: 10<br>Location: Alvin, TX, USA<br>Images: 28",
          "Date/time: 2018-08-28 16:07:00<br>Hour: 16<br>Location: Alvin, TX, USA<br>Images: 181",
          "Date/time: 2018-09-08 16:08:00<br>Hour: 16<br>Location: Alvin, TX, USA<br>Images: 23"
         ],
         "type": "scatter",
         "uid": "d99e4ecc-de32-11e8-a7ce-000d3a6173df",
         "x": [
          "2018-08-17 17:50:00",
          "2018-08-18 12:36:00",
          "2018-08-21 13:49:00",
          "2018-08-28 09:54:00",
          "2018-08-28 10:53:00",
          "2018-08-28 16:07:00",
          "2018-09-08 16:08:00"
         ],
         "y": [
          17,
          12,
          13,
          9,
          10,
          16,
          16
         ]
        },
        {
         "marker": {
          "line": {
           "width": 2
          },
          "size": [
           579
          ],
          "sizemode": "area",
          "sizeref": 0.2,
          "symbol": "circle"
         },
         "mode": "markers",
         "name": "Athens, GA, USA",
         "text": [
          "Date/time: 2018-08-21 15:56:00<br>Hour: 15<br>Location: Athens, GA, USA<br>Images: 579"
         ],
         "type": "scatter",
         "uid": "d99e4ecd-de32-11e8-9cbf-000d3a6173df",
         "x": [
          "2018-08-21 15:56:00"
         ],
         "y": [
          15
         ]
        },
        {
         "marker": {
          "line": {
           "width": 2
          },
          "size": [
           472
          ],
          "sizemode": "area",
          "sizeref": 0.2,
          "symbol": "circle"
         },
         "mode": "markers",
         "name": "Athens, Georgia, USA",
         "text": [
          "Date/time: 2018-08-18 12:30:00<br>Hour: 12<br>Location: Athens, Georgia, USA<br>Images: 472"
         ],
         "type": "scatter",
         "uid": "d99e4ece-de32-11e8-842d-000d3a6173df",
         "x": [
          "2018-08-18 12:30:00"
         ],
         "y": [
          12
         ]
        },
        {
         "marker": {
          "line": {
           "width": 2
          },
          "size": [
           340,
           149,
           12,
           435,
           37
          ],
          "sizemode": "area",
          "sizeref": 0.2,
          "symbol": "circle"
         },
         "mode": "markers",
         "name": "Des Moines, IA, USA",
         "text": [
          "Date/time: 2018-08-19 12:46:00<br>Hour: 12<br>Location: Des Moines, IA, USA<br>Images: 340",
          "Date/time: 2018-08-19 15:46:00<br>Hour: 15<br>Location: Des Moines, IA, USA<br>Images: 149",
          "Date/time: 2018-08-19 18:30:00<br>Hour: 18<br>Location: Des Moines, IA, USA<br>Images: 12",
          "Date/time: 2018-08-21 09:00:00<br>Hour: 9<br>Location: Des Moines, IA, USA<br>Images: 435",
          "Date/time: 2018-08-21 09:30:00<br>Hour: 9<br>Location: Des Moines, IA, USA<br>Images: 37"
         ],
         "type": "scatter",
         "uid": "d99e4ecf-de32-11e8-84b4-000d3a6173df",
         "x": [
          "2018-08-19 12:46:00",
          "2018-08-19 15:46:00",
          "2018-08-19 18:30:00",
          "2018-08-21 09:00:00",
          "2018-08-21 09:30:00"
         ],
         "y": [
          12,
          15,
          18,
          9,
          9
         ]
        },
        {
         "marker": {
          "line": {
           "width": 2
          },
          "size": [
           92
          ],
          "sizemode": "area",
          "sizeref": 0.2,
          "symbol": "circle"
         },
         "mode": "markers",
         "name": "Keene, NH, USA",
         "text": [
          "Date/time: 2018-08-25 14:00:00<br>Hour: 14<br>Location: Keene, NH, USA<br>Images: 92"
         ],
         "type": "scatter",
         "uid": "d99e4ed0-de32-11e8-b03d-000d3a6173df",
         "x": [
          "2018-08-25 14:00:00"
         ],
         "y": [
          14
         ]
        },
        {
         "marker": {
          "line": {
           "width": 2
          },
          "size": [
           170
          ],
          "sizemode": "area",
          "sizeref": 0.2,
          "symbol": "circle"
         },
         "mode": "markers",
         "name": "New Orleans, LA, USA",
         "text": [
          "Date/time: 2018-08-16 08:20:00<br>Hour: 8<br>Location: New Orleans, LA, USA<br>Images: 170"
         ],
         "type": "scatter",
         "uid": "d99e4ed1-de32-11e8-a927-000d3a6173df",
         "x": [
          "2018-08-16 08:20:00"
         ],
         "y": [
          8
         ]
        },
        {
         "marker": {
          "line": {
           "width": 2
          },
          "size": [
           15,
           13,
           10,
           111
          ],
          "sizemode": "area",
          "sizeref": 0.2,
          "symbol": "circle"
         },
         "mode": "markers",
         "name": "San Jose, CA, USA",
         "text": [
          "Date/time: 2018-08-20 09:47:00<br>Hour: 9<br>Location: San Jose, CA, USA<br>Images: 15",
          "Date/time: 2018-08-20 09:53:00<br>Hour: 9<br>Location: San Jose, CA, USA<br>Images: 13",
          "Date/time: 2018-08-20 10:03:00<br>Hour: 10<br>Location: San Jose, CA, USA<br>Images: 10",
          "Date/time: 2018-08-20 11:55:00<br>Hour: 11<br>Location: San Jose, CA, USA<br>Images: 111"
         ],
         "type": "scatter",
         "uid": "d99e4ed2-de32-11e8-9cdd-000d3a6173df",
         "x": [
          "2018-08-20 09:47:00",
          "2018-08-20 09:53:00",
          "2018-08-20 10:03:00",
          "2018-08-20 11:55:00"
         ],
         "y": [
          9,
          9,
          10,
          11
         ]
        },
        {
         "marker": {
          "line": {
           "width": 2
          },
          "size": [
           114,
           248,
           50,
           303,
           3,
           15,
           18,
           460,
           124,
           19,
           303,
           104,
           211,
           11,
           7,
           10
          ],
          "sizemode": "area",
          "sizeref": 0.2,
          "symbol": "circle"
         },
         "mode": "markers",
         "name": "Saratoga, CA, USA",
         "text": [
          "Date/time: 2018-07-02 13:57:00<br>Hour: 13<br>Location: Saratoga, CA, USA<br>Images: 114",
          "Date/time: 2018-07-02 15:30:00<br>Hour: 15<br>Location: Saratoga, CA, USA<br>Images: 248",
          "Date/time: 2018-07-03 16:10:00<br>Hour: 16<br>Location: Saratoga, CA, USA<br>Images: 50",
          "Date/time: 2018-07-07 12:56:00<br>Hour: 12<br>Location: Saratoga, CA, USA<br>Images: 303",
          "Date/time: 2018-07-07 14:00:00<br>Hour: 14<br>Location: Saratoga, CA, USA<br>Images: 3",
          "Date/time: 2018-07-07 14:35:00<br>Hour: 14<br>Location: Saratoga, CA, USA<br>Images: 15",
          "Date/time: 2018-08-06 11:25:00<br>Hour: 11<br>Location: Saratoga, CA, USA<br>Images: 18",
          "Date/time: 2018-08-06 13:19:00<br>Hour: 13<br>Location: Saratoga, CA, USA<br>Images: 460",
          "Date/time: 2018-08-06 13:21:00<br>Hour: 13<br>Location: Saratoga, CA, USA<br>Images: 124",
          "Date/time: 2018-08-06 14:48:00<br>Hour: 14<br>Location: Saratoga, CA, USA<br>Images: 19",
          "Date/time: 2018-08-06 19:19:00<br>Hour: 19<br>Location: Saratoga, CA, USA<br>Images: 303",
          "Date/time: 2018-08-08 21:13:00<br>Hour: 21<br>Location: Saratoga, CA, USA<br>Images: 104",
          "Date/time: 2018-08-10 13:54:00<br>Hour: 13<br>Location: Saratoga, CA, USA<br>Images: 211",
          "Date/time: 2018-08-13 11:00:00<br>Hour: 11<br>Location: Saratoga, CA, USA<br>Images: 11",
          "Date/time: 2018-08-13 11:11:00<br>Hour: 11<br>Location: Saratoga, CA, USA<br>Images: 7",
          "Date/time: 2018-08-13 11:20:00<br>Hour: 11<br>Location: Saratoga, CA, USA<br>Images: 10"
         ],
         "type": "scatter",
         "uid": "d99e4ed3-de32-11e8-a17b-000d3a6173df",
         "x": [
          "2018-07-02 13:57:00",
          "2018-07-02 15:30:00",
          "2018-07-03 16:10:00",
          "2018-07-07 12:56:00",
          "2018-07-07 14:00:00",
          "2018-07-07 14:35:00",
          "2018-08-06 11:25:00",
          "2018-08-06 13:19:00",
          "2018-08-06 13:21:00",
          "2018-08-06 14:48:00",
          "2018-08-06 19:19:00",
          "2018-08-08 21:13:00",
          "2018-08-10 13:54:00",
          "2018-08-13 11:00:00",
          "2018-08-13 11:11:00",
          "2018-08-13 11:20:00"
         ],
         "y": [
          13,
          15,
          16,
          12,
          14,
          14,
          11,
          13,
          13,
          14,
          19,
          21,
          13,
          11,
          11,
          11
         ]
        }
       ],
       "layout": {
        "hovermode": "closest",
        "title": "Number of bees images per date, approx. hour and location",
        "xaxis": {
         "showticklabels": true,
         "title": "Date"
        },
        "yaxis": {
         "title": "Hour"
        }
       }
      },
      "text/html": [
       "<div id=\"9e7785fd-ff23-48a9-b53f-ee78b873ac60\" style=\"height: 525px; width: 100%;\" class=\"plotly-graph-div\"></div><script type=\"text/javascript\">require([\"plotly\"], function(Plotly) { window.PLOTLYENV=window.PLOTLYENV || {};window.PLOTLYENV.BASE_URL=\"https://plot.ly\";Plotly.newPlot(\"9e7785fd-ff23-48a9-b53f-ee78b873ac60\", [{\"x\": [\"2018-08-17 17:50:00\", \"2018-08-18 12:36:00\", \"2018-08-21 13:49:00\", \"2018-08-28 09:54:00\", \"2018-08-28 10:53:00\", \"2018-08-28 16:07:00\", \"2018-09-08 16:08:00\"], \"y\": [17, 12, 13, 9, 10, 16, 16], \"name\": \"Alvin, TX, USA\", \"mode\": \"markers\", \"text\": [\"Date/time: 2018-08-17 17:50:00<br>Hour: 17<br>Location: Alvin, TX, USA<br>Images: 433\", \"Date/time: 2018-08-18 12:36:00<br>Hour: 12<br>Location: Alvin, TX, USA<br>Images: 24\", \"Date/time: 2018-08-21 13:49:00<br>Hour: 13<br>Location: Alvin, TX, USA<br>Images: 29\", \"Date/time: 2018-08-28 09:54:00<br>Hour: 9<br>Location: Alvin, TX, USA<br>Images: 19\", \"Date/time: 2018-08-28 10:53:00<br>Hour: 10<br>Location: Alvin, TX, USA<br>Images: 28\", \"Date/time: 2018-08-28 16:07:00<br>Hour: 16<br>Location: Alvin, TX, USA<br>Images: 181\", \"Date/time: 2018-09-08 16:08:00<br>Hour: 16<br>Location: Alvin, TX, USA<br>Images: 23\"], \"type\": \"scatter\", \"marker\": {\"size\": [433, 24, 29, 19, 28, 181, 23], \"sizeref\": 0.2, \"sizemode\": \"area\", \"symbol\": \"circle\", \"line\": {\"width\": 2}}, \"uid\": \"d9ac3182-de32-11e8-aef0-000d3a6173df\"}, {\"x\": [\"2018-08-21 15:56:00\"], \"y\": [15], \"name\": \"Athens, GA, USA\", \"mode\": \"markers\", \"text\": [\"Date/time: 2018-08-21 15:56:00<br>Hour: 15<br>Location: Athens, GA, USA<br>Images: 579\"], \"type\": \"scatter\", \"marker\": {\"size\": [579], \"sizeref\": 0.2, \"sizemode\": \"area\", \"symbol\": \"circle\", \"line\": {\"width\": 2}}, \"uid\": \"d9ac3183-de32-11e8-89b0-000d3a6173df\"}, {\"x\": [\"2018-08-18 12:30:00\"], \"y\": [12], \"name\": \"Athens, Georgia, USA\", \"mode\": \"markers\", \"text\": [\"Date/time: 2018-08-18 12:30:00<br>Hour: 12<br>Location: Athens, Georgia, USA<br>Images: 472\"], \"type\": \"scatter\", \"marker\": {\"size\": [472], \"sizeref\": 0.2, \"sizemode\": \"area\", \"symbol\": \"circle\", \"line\": {\"width\": 2}}, \"uid\": \"d9ac3184-de32-11e8-9efb-000d3a6173df\"}, {\"x\": [\"2018-08-19 12:46:00\", \"2018-08-19 15:46:00\", \"2018-08-19 18:30:00\", \"2018-08-21 09:00:00\", \"2018-08-21 09:30:00\"], \"y\": [12, 15, 18, 9, 9], \"name\": \"Des Moines, IA, USA\", \"mode\": \"markers\", \"text\": [\"Date/time: 2018-08-19 12:46:00<br>Hour: 12<br>Location: Des Moines, IA, USA<br>Images: 340\", \"Date/time: 2018-08-19 15:46:00<br>Hour: 15<br>Location: Des Moines, IA, USA<br>Images: 149\", \"Date/time: 2018-08-19 18:30:00<br>Hour: 18<br>Location: Des Moines, IA, USA<br>Images: 12\", \"Date/time: 2018-08-21 09:00:00<br>Hour: 9<br>Location: Des Moines, IA, USA<br>Images: 435\", \"Date/time: 2018-08-21 09:30:00<br>Hour: 9<br>Location: Des Moines, IA, USA<br>Images: 37\"], \"type\": \"scatter\", \"marker\": {\"size\": [340, 149, 12, 435, 37], \"sizeref\": 0.2, \"sizemode\": \"area\", \"symbol\": \"circle\", \"line\": {\"width\": 2}}, \"uid\": \"d9ac3185-de32-11e8-975a-000d3a6173df\"}, {\"x\": [\"2018-08-25 14:00:00\"], \"y\": [14], \"name\": \"Keene, NH, USA\", \"mode\": \"markers\", \"text\": [\"Date/time: 2018-08-25 14:00:00<br>Hour: 14<br>Location: Keene, NH, USA<br>Images: 92\"], \"type\": \"scatter\", \"marker\": {\"size\": [92], \"sizeref\": 0.2, \"sizemode\": \"area\", \"symbol\": \"circle\", \"line\": {\"width\": 2}}, \"uid\": \"d9ac3186-de32-11e8-8cd1-000d3a6173df\"}, {\"x\": [\"2018-08-16 08:20:00\"], \"y\": [8], \"name\": \"New Orleans, LA, USA\", \"mode\": \"markers\", \"text\": [\"Date/time: 2018-08-16 08:20:00<br>Hour: 8<br>Location: New Orleans, LA, USA<br>Images: 170\"], \"type\": \"scatter\", \"marker\": {\"size\": [170], \"sizeref\": 0.2, \"sizemode\": \"area\", \"symbol\": \"circle\", \"line\": {\"width\": 2}}, \"uid\": \"d9ac3187-de32-11e8-b3af-000d3a6173df\"}, {\"x\": [\"2018-08-20 09:47:00\", \"2018-08-20 09:53:00\", \"2018-08-20 10:03:00\", \"2018-08-20 11:55:00\"], \"y\": [9, 9, 10, 11], \"name\": \"San Jose, CA, USA\", \"mode\": \"markers\", \"text\": [\"Date/time: 2018-08-20 09:47:00<br>Hour: 9<br>Location: San Jose, CA, USA<br>Images: 15\", \"Date/time: 2018-08-20 09:53:00<br>Hour: 9<br>Location: San Jose, CA, USA<br>Images: 13\", \"Date/time: 2018-08-20 10:03:00<br>Hour: 10<br>Location: San Jose, CA, USA<br>Images: 10\", \"Date/time: 2018-08-20 11:55:00<br>Hour: 11<br>Location: San Jose, CA, USA<br>Images: 111\"], \"type\": \"scatter\", \"marker\": {\"size\": [15, 13, 10, 111], \"sizeref\": 0.2, \"sizemode\": \"area\", \"symbol\": \"circle\", \"line\": {\"width\": 2}}, \"uid\": \"d9ac3188-de32-11e8-8026-000d3a6173df\"}, {\"x\": [\"2018-07-02 13:57:00\", \"2018-07-02 15:30:00\", \"2018-07-03 16:10:00\", \"2018-07-07 12:56:00\", \"2018-07-07 14:00:00\", \"2018-07-07 14:35:00\", \"2018-08-06 11:25:00\", \"2018-08-06 13:19:00\", \"2018-08-06 13:21:00\", \"2018-08-06 14:48:00\", \"2018-08-06 19:19:00\", \"2018-08-08 21:13:00\", \"2018-08-10 13:54:00\", \"2018-08-13 11:00:00\", \"2018-08-13 11:11:00\", \"2018-08-13 11:20:00\"], \"y\": [13, 15, 16, 12, 14, 14, 11, 13, 13, 14, 19, 21, 13, 11, 11, 11], \"name\": \"Saratoga, CA, USA\", \"mode\": \"markers\", \"text\": [\"Date/time: 2018-07-02 13:57:00<br>Hour: 13<br>Location: Saratoga, CA, USA<br>Images: 114\", \"Date/time: 2018-07-02 15:30:00<br>Hour: 15<br>Location: Saratoga, CA, USA<br>Images: 248\", \"Date/time: 2018-07-03 16:10:00<br>Hour: 16<br>Location: Saratoga, CA, USA<br>Images: 50\", \"Date/time: 2018-07-07 12:56:00<br>Hour: 12<br>Location: Saratoga, CA, USA<br>Images: 303\", \"Date/time: 2018-07-07 14:00:00<br>Hour: 14<br>Location: Saratoga, CA, USA<br>Images: 3\", \"Date/time: 2018-07-07 14:35:00<br>Hour: 14<br>Location: Saratoga, CA, USA<br>Images: 15\", \"Date/time: 2018-08-06 11:25:00<br>Hour: 11<br>Location: Saratoga, CA, USA<br>Images: 18\", \"Date/time: 2018-08-06 13:19:00<br>Hour: 13<br>Location: Saratoga, CA, USA<br>Images: 460\", \"Date/time: 2018-08-06 13:21:00<br>Hour: 13<br>Location: Saratoga, CA, USA<br>Images: 124\", \"Date/time: 2018-08-06 14:48:00<br>Hour: 14<br>Location: Saratoga, CA, USA<br>Images: 19\", \"Date/time: 2018-08-06 19:19:00<br>Hour: 19<br>Location: Saratoga, CA, USA<br>Images: 303\", \"Date/time: 2018-08-08 21:13:00<br>Hour: 21<br>Location: Saratoga, CA, USA<br>Images: 104\", \"Date/time: 2018-08-10 13:54:00<br>Hour: 13<br>Location: Saratoga, CA, USA<br>Images: 211\", \"Date/time: 2018-08-13 11:00:00<br>Hour: 11<br>Location: Saratoga, CA, USA<br>Images: 11\", \"Date/time: 2018-08-13 11:11:00<br>Hour: 11<br>Location: Saratoga, CA, USA<br>Images: 7\", \"Date/time: 2018-08-13 11:20:00<br>Hour: 11<br>Location: Saratoga, CA, USA<br>Images: 10\"], \"type\": \"scatter\", \"marker\": {\"size\": [114, 248, 50, 303, 3, 15, 18, 460, 124, 19, 303, 104, 211, 11, 7, 10], \"sizeref\": 0.2, \"sizemode\": \"area\", \"symbol\": \"circle\", \"line\": {\"width\": 2}}, \"uid\": \"d9ac3189-de32-11e8-a87f-000d3a6173df\"}, {\"x\": [\"2018-08-17 17:50:00\", \"2018-08-18 12:36:00\", \"2018-08-21 13:49:00\", \"2018-08-28 09:54:00\", \"2018-08-28 10:53:00\", \"2018-08-28 16:07:00\", \"2018-09-08 16:08:00\"], \"y\": [17, 12, 13, 9, 10, 16, 16], \"name\": \"Alvin, TX, USA\", \"mode\": \"markers\", \"text\": [\"Date/time: 2018-08-17 17:50:00<br>Hour: 17<br>Location: Alvin, TX, USA<br>Images: 433\", \"Date/time: 2018-08-18 12:36:00<br>Hour: 12<br>Location: Alvin, TX, USA<br>Images: 24\", \"Date/time: 2018-08-21 13:49:00<br>Hour: 13<br>Location: Alvin, TX, USA<br>Images: 29\", \"Date/time: 2018-08-28 09:54:00<br>Hour: 9<br>Location: Alvin, TX, USA<br>Images: 19\", \"Date/time: 2018-08-28 10:53:00<br>Hour: 10<br>Location: Alvin, TX, USA<br>Images: 28\", \"Date/time: 2018-08-28 16:07:00<br>Hour: 16<br>Location: Alvin, TX, USA<br>Images: 181\", \"Date/time: 2018-09-08 16:08:00<br>Hour: 16<br>Location: Alvin, TX, USA<br>Images: 23\"], \"type\": \"scatter\", \"marker\": {\"size\": [433, 24, 29, 19, 28, 181, 23], \"sizeref\": 0.2, \"sizemode\": \"area\", \"symbol\": \"circle\", \"line\": {\"width\": 2}}, \"uid\": \"d9ac318a-de32-11e8-bc0f-000d3a6173df\"}, {\"x\": [\"2018-08-21 15:56:00\"], \"y\": [15], \"name\": \"Athens, GA, USA\", \"mode\": \"markers\", \"text\": [\"Date/time: 2018-08-21 15:56:00<br>Hour: 15<br>Location: Athens, GA, USA<br>Images: 579\"], \"type\": \"scatter\", \"marker\": {\"size\": [579], \"sizeref\": 0.2, \"sizemode\": \"area\", \"symbol\": \"circle\", \"line\": {\"width\": 2}}, \"uid\": \"d9ac318b-de32-11e8-8f8c-000d3a6173df\"}, {\"x\": [\"2018-08-18 12:30:00\"], \"y\": [12], \"name\": \"Athens, Georgia, USA\", \"mode\": \"markers\", \"text\": [\"Date/time: 2018-08-18 12:30:00<br>Hour: 12<br>Location: Athens, Georgia, USA<br>Images: 472\"], \"type\": \"scatter\", \"marker\": {\"size\": [472], \"sizeref\": 0.2, \"sizemode\": \"area\", \"symbol\": \"circle\", \"line\": {\"width\": 2}}, \"uid\": \"d9ac318c-de32-11e8-9aac-000d3a6173df\"}, {\"x\": [\"2018-08-19 12:46:00\", \"2018-08-19 15:46:00\", \"2018-08-19 18:30:00\", \"2018-08-21 09:00:00\", \"2018-08-21 09:30:00\"], \"y\": [12, 15, 18, 9, 9], \"name\": \"Des Moines, IA, USA\", \"mode\": \"markers\", \"text\": [\"Date/time: 2018-08-19 12:46:00<br>Hour: 12<br>Location: Des Moines, IA, USA<br>Images: 340\", \"Date/time: 2018-08-19 15:46:00<br>Hour: 15<br>Location: Des Moines, IA, USA<br>Images: 149\", \"Date/time: 2018-08-19 18:30:00<br>Hour: 18<br>Location: Des Moines, IA, USA<br>Images: 12\", \"Date/time: 2018-08-21 09:00:00<br>Hour: 9<br>Location: Des Moines, IA, USA<br>Images: 435\", \"Date/time: 2018-08-21 09:30:00<br>Hour: 9<br>Location: Des Moines, IA, USA<br>Images: 37\"], \"type\": \"scatter\", \"marker\": {\"size\": [340, 149, 12, 435, 37], \"sizeref\": 0.2, \"sizemode\": \"area\", \"symbol\": \"circle\", \"line\": {\"width\": 2}}, \"uid\": \"d9ac318d-de32-11e8-afbe-000d3a6173df\"}, {\"x\": [\"2018-08-25 14:00:00\"], \"y\": [14], \"name\": \"Keene, NH, USA\", \"mode\": \"markers\", \"text\": [\"Date/time: 2018-08-25 14:00:00<br>Hour: 14<br>Location: Keene, NH, USA<br>Images: 92\"], \"type\": \"scatter\", \"marker\": {\"size\": [92], \"sizeref\": 0.2, \"sizemode\": \"area\", \"symbol\": \"circle\", \"line\": {\"width\": 2}}, \"uid\": \"d9ac318e-de32-11e8-af89-000d3a6173df\"}, {\"x\": [\"2018-08-16 08:20:00\"], \"y\": [8], \"name\": \"New Orleans, LA, USA\", \"mode\": \"markers\", \"text\": [\"Date/time: 2018-08-16 08:20:00<br>Hour: 8<br>Location: New Orleans, LA, USA<br>Images: 170\"], \"type\": \"scatter\", \"marker\": {\"size\": [170], \"sizeref\": 0.2, \"sizemode\": \"area\", \"symbol\": \"circle\", \"line\": {\"width\": 2}}, \"uid\": \"d9ac318f-de32-11e8-af42-000d3a6173df\"}, {\"x\": [\"2018-08-20 09:47:00\", \"2018-08-20 09:53:00\", \"2018-08-20 10:03:00\", \"2018-08-20 11:55:00\"], \"y\": [9, 9, 10, 11], \"name\": \"San Jose, CA, USA\", \"mode\": \"markers\", \"text\": [\"Date/time: 2018-08-20 09:47:00<br>Hour: 9<br>Location: San Jose, CA, USA<br>Images: 15\", \"Date/time: 2018-08-20 09:53:00<br>Hour: 9<br>Location: San Jose, CA, USA<br>Images: 13\", \"Date/time: 2018-08-20 10:03:00<br>Hour: 10<br>Location: San Jose, CA, USA<br>Images: 10\", \"Date/time: 2018-08-20 11:55:00<br>Hour: 11<br>Location: San Jose, CA, USA<br>Images: 111\"], \"type\": \"scatter\", \"marker\": {\"size\": [15, 13, 10, 111], \"sizeref\": 0.2, \"sizemode\": \"area\", \"symbol\": \"circle\", \"line\": {\"width\": 2}}, \"uid\": \"d9ac3190-de32-11e8-95fa-000d3a6173df\"}, {\"x\": [\"2018-07-02 13:57:00\", \"2018-07-02 15:30:00\", \"2018-07-03 16:10:00\", \"2018-07-07 12:56:00\", \"2018-07-07 14:00:00\", \"2018-07-07 14:35:00\", \"2018-08-06 11:25:00\", \"2018-08-06 13:19:00\", \"2018-08-06 13:21:00\", \"2018-08-06 14:48:00\", \"2018-08-06 19:19:00\", \"2018-08-08 21:13:00\", \"2018-08-10 13:54:00\", \"2018-08-13 11:00:00\", \"2018-08-13 11:11:00\", \"2018-08-13 11:20:00\"], \"y\": [13, 15, 16, 12, 14, 14, 11, 13, 13, 14, 19, 21, 13, 11, 11, 11], \"name\": \"Saratoga, CA, USA\", \"mode\": \"markers\", \"text\": [\"Date/time: 2018-07-02 13:57:00<br>Hour: 13<br>Location: Saratoga, CA, USA<br>Images: 114\", \"Date/time: 2018-07-02 15:30:00<br>Hour: 15<br>Location: Saratoga, CA, USA<br>Images: 248\", \"Date/time: 2018-07-03 16:10:00<br>Hour: 16<br>Location: Saratoga, CA, USA<br>Images: 50\", \"Date/time: 2018-07-07 12:56:00<br>Hour: 12<br>Location: Saratoga, CA, USA<br>Images: 303\", \"Date/time: 2018-07-07 14:00:00<br>Hour: 14<br>Location: Saratoga, CA, USA<br>Images: 3\", \"Date/time: 2018-07-07 14:35:00<br>Hour: 14<br>Location: Saratoga, CA, USA<br>Images: 15\", \"Date/time: 2018-08-06 11:25:00<br>Hour: 11<br>Location: Saratoga, CA, USA<br>Images: 18\", \"Date/time: 2018-08-06 13:19:00<br>Hour: 13<br>Location: Saratoga, CA, USA<br>Images: 460\", \"Date/time: 2018-08-06 13:21:00<br>Hour: 13<br>Location: Saratoga, CA, USA<br>Images: 124\", \"Date/time: 2018-08-06 14:48:00<br>Hour: 14<br>Location: Saratoga, CA, USA<br>Images: 19\", \"Date/time: 2018-08-06 19:19:00<br>Hour: 19<br>Location: Saratoga, CA, USA<br>Images: 303\", \"Date/time: 2018-08-08 21:13:00<br>Hour: 21<br>Location: Saratoga, CA, USA<br>Images: 104\", \"Date/time: 2018-08-10 13:54:00<br>Hour: 13<br>Location: Saratoga, CA, USA<br>Images: 211\", \"Date/time: 2018-08-13 11:00:00<br>Hour: 11<br>Location: Saratoga, CA, USA<br>Images: 11\", \"Date/time: 2018-08-13 11:11:00<br>Hour: 11<br>Location: Saratoga, CA, USA<br>Images: 7\", \"Date/time: 2018-08-13 11:20:00<br>Hour: 11<br>Location: Saratoga, CA, USA<br>Images: 10\"], \"type\": \"scatter\", \"marker\": {\"size\": [114, 248, 50, 303, 3, 15, 18, 460, 124, 19, 303, 104, 211, 11, 7, 10], \"sizeref\": 0.2, \"sizemode\": \"area\", \"symbol\": \"circle\", \"line\": {\"width\": 2}}, \"uid\": \"d9ac3191-de32-11e8-b2da-000d3a6173df\"}], {\"title\": \"Number of bees images per date, approx. hour and location\", \"xaxis\": {\"title\": \"Date\", \"showticklabels\": true}, \"hovermode\": \"closest\", \"yaxis\": {\"title\": \"Hour\"}}, {\"linkText\": \"Export to plot.ly\", \"showLink\": true})});</script>"
      ],
      "text/vnd.plotly.v1+html": [
       "<div id=\"9e7785fd-ff23-48a9-b53f-ee78b873ac60\" style=\"height: 525px; width: 100%;\" class=\"plotly-graph-div\"></div><script type=\"text/javascript\">require([\"plotly\"], function(Plotly) { window.PLOTLYENV=window.PLOTLYENV || {};window.PLOTLYENV.BASE_URL=\"https://plot.ly\";Plotly.newPlot(\"9e7785fd-ff23-48a9-b53f-ee78b873ac60\", [{\"x\": [\"2018-08-17 17:50:00\", \"2018-08-18 12:36:00\", \"2018-08-21 13:49:00\", \"2018-08-28 09:54:00\", \"2018-08-28 10:53:00\", \"2018-08-28 16:07:00\", \"2018-09-08 16:08:00\"], \"y\": [17, 12, 13, 9, 10, 16, 16], \"name\": \"Alvin, TX, USA\", \"mode\": \"markers\", \"text\": [\"Date/time: 2018-08-17 17:50:00<br>Hour: 17<br>Location: Alvin, TX, USA<br>Images: 433\", \"Date/time: 2018-08-18 12:36:00<br>Hour: 12<br>Location: Alvin, TX, USA<br>Images: 24\", \"Date/time: 2018-08-21 13:49:00<br>Hour: 13<br>Location: Alvin, TX, USA<br>Images: 29\", \"Date/time: 2018-08-28 09:54:00<br>Hour: 9<br>Location: Alvin, TX, USA<br>Images: 19\", \"Date/time: 2018-08-28 10:53:00<br>Hour: 10<br>Location: Alvin, TX, USA<br>Images: 28\", \"Date/time: 2018-08-28 16:07:00<br>Hour: 16<br>Location: Alvin, TX, USA<br>Images: 181\", \"Date/time: 2018-09-08 16:08:00<br>Hour: 16<br>Location: Alvin, TX, USA<br>Images: 23\"], \"type\": \"scatter\", \"marker\": {\"size\": [433, 24, 29, 19, 28, 181, 23], \"sizeref\": 0.2, \"sizemode\": \"area\", \"symbol\": \"circle\", \"line\": {\"width\": 2}}, \"uid\": \"d9ac3182-de32-11e8-aef0-000d3a6173df\"}, {\"x\": [\"2018-08-21 15:56:00\"], \"y\": [15], \"name\": \"Athens, GA, USA\", \"mode\": \"markers\", \"text\": [\"Date/time: 2018-08-21 15:56:00<br>Hour: 15<br>Location: Athens, GA, USA<br>Images: 579\"], \"type\": \"scatter\", \"marker\": {\"size\": [579], \"sizeref\": 0.2, \"sizemode\": \"area\", \"symbol\": \"circle\", \"line\": {\"width\": 2}}, \"uid\": \"d9ac3183-de32-11e8-89b0-000d3a6173df\"}, {\"x\": [\"2018-08-18 12:30:00\"], \"y\": [12], \"name\": \"Athens, Georgia, USA\", \"mode\": \"markers\", \"text\": [\"Date/time: 2018-08-18 12:30:00<br>Hour: 12<br>Location: Athens, Georgia, USA<br>Images: 472\"], \"type\": \"scatter\", \"marker\": {\"size\": [472], \"sizeref\": 0.2, \"sizemode\": \"area\", \"symbol\": \"circle\", \"line\": {\"width\": 2}}, \"uid\": \"d9ac3184-de32-11e8-9efb-000d3a6173df\"}, {\"x\": [\"2018-08-19 12:46:00\", \"2018-08-19 15:46:00\", \"2018-08-19 18:30:00\", \"2018-08-21 09:00:00\", \"2018-08-21 09:30:00\"], \"y\": [12, 15, 18, 9, 9], \"name\": \"Des Moines, IA, USA\", \"mode\": \"markers\", \"text\": [\"Date/time: 2018-08-19 12:46:00<br>Hour: 12<br>Location: Des Moines, IA, USA<br>Images: 340\", \"Date/time: 2018-08-19 15:46:00<br>Hour: 15<br>Location: Des Moines, IA, USA<br>Images: 149\", \"Date/time: 2018-08-19 18:30:00<br>Hour: 18<br>Location: Des Moines, IA, USA<br>Images: 12\", \"Date/time: 2018-08-21 09:00:00<br>Hour: 9<br>Location: Des Moines, IA, USA<br>Images: 435\", \"Date/time: 2018-08-21 09:30:00<br>Hour: 9<br>Location: Des Moines, IA, USA<br>Images: 37\"], \"type\": \"scatter\", \"marker\": {\"size\": [340, 149, 12, 435, 37], \"sizeref\": 0.2, \"sizemode\": \"area\", \"symbol\": \"circle\", \"line\": {\"width\": 2}}, \"uid\": \"d9ac3185-de32-11e8-975a-000d3a6173df\"}, {\"x\": [\"2018-08-25 14:00:00\"], \"y\": [14], \"name\": \"Keene, NH, USA\", \"mode\": \"markers\", \"text\": [\"Date/time: 2018-08-25 14:00:00<br>Hour: 14<br>Location: Keene, NH, USA<br>Images: 92\"], \"type\": \"scatter\", \"marker\": {\"size\": [92], \"sizeref\": 0.2, \"sizemode\": \"area\", \"symbol\": \"circle\", \"line\": {\"width\": 2}}, \"uid\": \"d9ac3186-de32-11e8-8cd1-000d3a6173df\"}, {\"x\": [\"2018-08-16 08:20:00\"], \"y\": [8], \"name\": \"New Orleans, LA, USA\", \"mode\": \"markers\", \"text\": [\"Date/time: 2018-08-16 08:20:00<br>Hour: 8<br>Location: New Orleans, LA, USA<br>Images: 170\"], \"type\": \"scatter\", \"marker\": {\"size\": [170], \"sizeref\": 0.2, \"sizemode\": \"area\", \"symbol\": \"circle\", \"line\": {\"width\": 2}}, \"uid\": \"d9ac3187-de32-11e8-b3af-000d3a6173df\"}, {\"x\": [\"2018-08-20 09:47:00\", \"2018-08-20 09:53:00\", \"2018-08-20 10:03:00\", \"2018-08-20 11:55:00\"], \"y\": [9, 9, 10, 11], \"name\": \"San Jose, CA, USA\", \"mode\": \"markers\", \"text\": [\"Date/time: 2018-08-20 09:47:00<br>Hour: 9<br>Location: San Jose, CA, USA<br>Images: 15\", \"Date/time: 2018-08-20 09:53:00<br>Hour: 9<br>Location: San Jose, CA, USA<br>Images: 13\", \"Date/time: 2018-08-20 10:03:00<br>Hour: 10<br>Location: San Jose, CA, USA<br>Images: 10\", \"Date/time: 2018-08-20 11:55:00<br>Hour: 11<br>Location: San Jose, CA, USA<br>Images: 111\"], \"type\": \"scatter\", \"marker\": {\"size\": [15, 13, 10, 111], \"sizeref\": 0.2, \"sizemode\": \"area\", \"symbol\": \"circle\", \"line\": {\"width\": 2}}, \"uid\": \"d9ac3188-de32-11e8-8026-000d3a6173df\"}, {\"x\": [\"2018-07-02 13:57:00\", \"2018-07-02 15:30:00\", \"2018-07-03 16:10:00\", \"2018-07-07 12:56:00\", \"2018-07-07 14:00:00\", \"2018-07-07 14:35:00\", \"2018-08-06 11:25:00\", \"2018-08-06 13:19:00\", \"2018-08-06 13:21:00\", \"2018-08-06 14:48:00\", \"2018-08-06 19:19:00\", \"2018-08-08 21:13:00\", \"2018-08-10 13:54:00\", \"2018-08-13 11:00:00\", \"2018-08-13 11:11:00\", \"2018-08-13 11:20:00\"], \"y\": [13, 15, 16, 12, 14, 14, 11, 13, 13, 14, 19, 21, 13, 11, 11, 11], \"name\": \"Saratoga, CA, USA\", \"mode\": \"markers\", \"text\": [\"Date/time: 2018-07-02 13:57:00<br>Hour: 13<br>Location: Saratoga, CA, USA<br>Images: 114\", \"Date/time: 2018-07-02 15:30:00<br>Hour: 15<br>Location: Saratoga, CA, USA<br>Images: 248\", \"Date/time: 2018-07-03 16:10:00<br>Hour: 16<br>Location: Saratoga, CA, USA<br>Images: 50\", \"Date/time: 2018-07-07 12:56:00<br>Hour: 12<br>Location: Saratoga, CA, USA<br>Images: 303\", \"Date/time: 2018-07-07 14:00:00<br>Hour: 14<br>Location: Saratoga, CA, USA<br>Images: 3\", \"Date/time: 2018-07-07 14:35:00<br>Hour: 14<br>Location: Saratoga, CA, USA<br>Images: 15\", \"Date/time: 2018-08-06 11:25:00<br>Hour: 11<br>Location: Saratoga, CA, USA<br>Images: 18\", \"Date/time: 2018-08-06 13:19:00<br>Hour: 13<br>Location: Saratoga, CA, USA<br>Images: 460\", \"Date/time: 2018-08-06 13:21:00<br>Hour: 13<br>Location: Saratoga, CA, USA<br>Images: 124\", \"Date/time: 2018-08-06 14:48:00<br>Hour: 14<br>Location: Saratoga, CA, USA<br>Images: 19\", \"Date/time: 2018-08-06 19:19:00<br>Hour: 19<br>Location: Saratoga, CA, USA<br>Images: 303\", \"Date/time: 2018-08-08 21:13:00<br>Hour: 21<br>Location: Saratoga, CA, USA<br>Images: 104\", \"Date/time: 2018-08-10 13:54:00<br>Hour: 13<br>Location: Saratoga, CA, USA<br>Images: 211\", \"Date/time: 2018-08-13 11:00:00<br>Hour: 11<br>Location: Saratoga, CA, USA<br>Images: 11\", \"Date/time: 2018-08-13 11:11:00<br>Hour: 11<br>Location: Saratoga, CA, USA<br>Images: 7\", \"Date/time: 2018-08-13 11:20:00<br>Hour: 11<br>Location: Saratoga, CA, USA<br>Images: 10\"], \"type\": \"scatter\", \"marker\": {\"size\": [114, 248, 50, 303, 3, 15, 18, 460, 124, 19, 303, 104, 211, 11, 7, 10], \"sizeref\": 0.2, \"sizemode\": \"area\", \"symbol\": \"circle\", \"line\": {\"width\": 2}}, \"uid\": \"d9ac3189-de32-11e8-a87f-000d3a6173df\"}, {\"x\": [\"2018-08-17 17:50:00\", \"2018-08-18 12:36:00\", \"2018-08-21 13:49:00\", \"2018-08-28 09:54:00\", \"2018-08-28 10:53:00\", \"2018-08-28 16:07:00\", \"2018-09-08 16:08:00\"], \"y\": [17, 12, 13, 9, 10, 16, 16], \"name\": \"Alvin, TX, USA\", \"mode\": \"markers\", \"text\": [\"Date/time: 2018-08-17 17:50:00<br>Hour: 17<br>Location: Alvin, TX, USA<br>Images: 433\", \"Date/time: 2018-08-18 12:36:00<br>Hour: 12<br>Location: Alvin, TX, USA<br>Images: 24\", \"Date/time: 2018-08-21 13:49:00<br>Hour: 13<br>Location: Alvin, TX, USA<br>Images: 29\", \"Date/time: 2018-08-28 09:54:00<br>Hour: 9<br>Location: Alvin, TX, USA<br>Images: 19\", \"Date/time: 2018-08-28 10:53:00<br>Hour: 10<br>Location: Alvin, TX, USA<br>Images: 28\", \"Date/time: 2018-08-28 16:07:00<br>Hour: 16<br>Location: Alvin, TX, USA<br>Images: 181\", \"Date/time: 2018-09-08 16:08:00<br>Hour: 16<br>Location: Alvin, TX, USA<br>Images: 23\"], \"type\": \"scatter\", \"marker\": {\"size\": [433, 24, 29, 19, 28, 181, 23], \"sizeref\": 0.2, \"sizemode\": \"area\", \"symbol\": \"circle\", \"line\": {\"width\": 2}}, \"uid\": \"d9ac318a-de32-11e8-bc0f-000d3a6173df\"}, {\"x\": [\"2018-08-21 15:56:00\"], \"y\": [15], \"name\": \"Athens, GA, USA\", \"mode\": \"markers\", \"text\": [\"Date/time: 2018-08-21 15:56:00<br>Hour: 15<br>Location: Athens, GA, USA<br>Images: 579\"], \"type\": \"scatter\", \"marker\": {\"size\": [579], \"sizeref\": 0.2, \"sizemode\": \"area\", \"symbol\": \"circle\", \"line\": {\"width\": 2}}, \"uid\": \"d9ac318b-de32-11e8-8f8c-000d3a6173df\"}, {\"x\": [\"2018-08-18 12:30:00\"], \"y\": [12], \"name\": \"Athens, Georgia, USA\", \"mode\": \"markers\", \"text\": [\"Date/time: 2018-08-18 12:30:00<br>Hour: 12<br>Location: Athens, Georgia, USA<br>Images: 472\"], \"type\": \"scatter\", \"marker\": {\"size\": [472], \"sizeref\": 0.2, \"sizemode\": \"area\", \"symbol\": \"circle\", \"line\": {\"width\": 2}}, \"uid\": \"d9ac318c-de32-11e8-9aac-000d3a6173df\"}, {\"x\": [\"2018-08-19 12:46:00\", \"2018-08-19 15:46:00\", \"2018-08-19 18:30:00\", \"2018-08-21 09:00:00\", \"2018-08-21 09:30:00\"], \"y\": [12, 15, 18, 9, 9], \"name\": \"Des Moines, IA, USA\", \"mode\": \"markers\", \"text\": [\"Date/time: 2018-08-19 12:46:00<br>Hour: 12<br>Location: Des Moines, IA, USA<br>Images: 340\", \"Date/time: 2018-08-19 15:46:00<br>Hour: 15<br>Location: Des Moines, IA, USA<br>Images: 149\", \"Date/time: 2018-08-19 18:30:00<br>Hour: 18<br>Location: Des Moines, IA, USA<br>Images: 12\", \"Date/time: 2018-08-21 09:00:00<br>Hour: 9<br>Location: Des Moines, IA, USA<br>Images: 435\", \"Date/time: 2018-08-21 09:30:00<br>Hour: 9<br>Location: Des Moines, IA, USA<br>Images: 37\"], \"type\": \"scatter\", \"marker\": {\"size\": [340, 149, 12, 435, 37], \"sizeref\": 0.2, \"sizemode\": \"area\", \"symbol\": \"circle\", \"line\": {\"width\": 2}}, \"uid\": \"d9ac318d-de32-11e8-afbe-000d3a6173df\"}, {\"x\": [\"2018-08-25 14:00:00\"], \"y\": [14], \"name\": \"Keene, NH, USA\", \"mode\": \"markers\", \"text\": [\"Date/time: 2018-08-25 14:00:00<br>Hour: 14<br>Location: Keene, NH, USA<br>Images: 92\"], \"type\": \"scatter\", \"marker\": {\"size\": [92], \"sizeref\": 0.2, \"sizemode\": \"area\", \"symbol\": \"circle\", \"line\": {\"width\": 2}}, \"uid\": \"d9ac318e-de32-11e8-af89-000d3a6173df\"}, {\"x\": [\"2018-08-16 08:20:00\"], \"y\": [8], \"name\": \"New Orleans, LA, USA\", \"mode\": \"markers\", \"text\": [\"Date/time: 2018-08-16 08:20:00<br>Hour: 8<br>Location: New Orleans, LA, USA<br>Images: 170\"], \"type\": \"scatter\", \"marker\": {\"size\": [170], \"sizeref\": 0.2, \"sizemode\": \"area\", \"symbol\": \"circle\", \"line\": {\"width\": 2}}, \"uid\": \"d9ac318f-de32-11e8-af42-000d3a6173df\"}, {\"x\": [\"2018-08-20 09:47:00\", \"2018-08-20 09:53:00\", \"2018-08-20 10:03:00\", \"2018-08-20 11:55:00\"], \"y\": [9, 9, 10, 11], \"name\": \"San Jose, CA, USA\", \"mode\": \"markers\", \"text\": [\"Date/time: 2018-08-20 09:47:00<br>Hour: 9<br>Location: San Jose, CA, USA<br>Images: 15\", \"Date/time: 2018-08-20 09:53:00<br>Hour: 9<br>Location: San Jose, CA, USA<br>Images: 13\", \"Date/time: 2018-08-20 10:03:00<br>Hour: 10<br>Location: San Jose, CA, USA<br>Images: 10\", \"Date/time: 2018-08-20 11:55:00<br>Hour: 11<br>Location: San Jose, CA, USA<br>Images: 111\"], \"type\": \"scatter\", \"marker\": {\"size\": [15, 13, 10, 111], \"sizeref\": 0.2, \"sizemode\": \"area\", \"symbol\": \"circle\", \"line\": {\"width\": 2}}, \"uid\": \"d9ac3190-de32-11e8-95fa-000d3a6173df\"}, {\"x\": [\"2018-07-02 13:57:00\", \"2018-07-02 15:30:00\", \"2018-07-03 16:10:00\", \"2018-07-07 12:56:00\", \"2018-07-07 14:00:00\", \"2018-07-07 14:35:00\", \"2018-08-06 11:25:00\", \"2018-08-06 13:19:00\", \"2018-08-06 13:21:00\", \"2018-08-06 14:48:00\", \"2018-08-06 19:19:00\", \"2018-08-08 21:13:00\", \"2018-08-10 13:54:00\", \"2018-08-13 11:00:00\", \"2018-08-13 11:11:00\", \"2018-08-13 11:20:00\"], \"y\": [13, 15, 16, 12, 14, 14, 11, 13, 13, 14, 19, 21, 13, 11, 11, 11], \"name\": \"Saratoga, CA, USA\", \"mode\": \"markers\", \"text\": [\"Date/time: 2018-07-02 13:57:00<br>Hour: 13<br>Location: Saratoga, CA, USA<br>Images: 114\", \"Date/time: 2018-07-02 15:30:00<br>Hour: 15<br>Location: Saratoga, CA, USA<br>Images: 248\", \"Date/time: 2018-07-03 16:10:00<br>Hour: 16<br>Location: Saratoga, CA, USA<br>Images: 50\", \"Date/time: 2018-07-07 12:56:00<br>Hour: 12<br>Location: Saratoga, CA, USA<br>Images: 303\", \"Date/time: 2018-07-07 14:00:00<br>Hour: 14<br>Location: Saratoga, CA, USA<br>Images: 3\", \"Date/time: 2018-07-07 14:35:00<br>Hour: 14<br>Location: Saratoga, CA, USA<br>Images: 15\", \"Date/time: 2018-08-06 11:25:00<br>Hour: 11<br>Location: Saratoga, CA, USA<br>Images: 18\", \"Date/time: 2018-08-06 13:19:00<br>Hour: 13<br>Location: Saratoga, CA, USA<br>Images: 460\", \"Date/time: 2018-08-06 13:21:00<br>Hour: 13<br>Location: Saratoga, CA, USA<br>Images: 124\", \"Date/time: 2018-08-06 14:48:00<br>Hour: 14<br>Location: Saratoga, CA, USA<br>Images: 19\", \"Date/time: 2018-08-06 19:19:00<br>Hour: 19<br>Location: Saratoga, CA, USA<br>Images: 303\", \"Date/time: 2018-08-08 21:13:00<br>Hour: 21<br>Location: Saratoga, CA, USA<br>Images: 104\", \"Date/time: 2018-08-10 13:54:00<br>Hour: 13<br>Location: Saratoga, CA, USA<br>Images: 211\", \"Date/time: 2018-08-13 11:00:00<br>Hour: 11<br>Location: Saratoga, CA, USA<br>Images: 11\", \"Date/time: 2018-08-13 11:11:00<br>Hour: 11<br>Location: Saratoga, CA, USA<br>Images: 7\", \"Date/time: 2018-08-13 11:20:00<br>Hour: 11<br>Location: Saratoga, CA, USA<br>Images: 10\"], \"type\": \"scatter\", \"marker\": {\"size\": [114, 248, 50, 303, 3, 15, 18, 460, 124, 19, 303, 104, 211, 11, 7, 10], \"sizeref\": 0.2, \"sizemode\": \"area\", \"symbol\": \"circle\", \"line\": {\"width\": 2}}, \"uid\": \"d9ac3191-de32-11e8-b2da-000d3a6173df\"}], {\"title\": \"Number of bees images per date, approx. hour and location\", \"xaxis\": {\"title\": \"Date\", \"showticklabels\": true}, \"hovermode\": \"closest\", \"yaxis\": {\"title\": \"Hour\"}}, {\"linkText\": \"Export to plot.ly\", \"showLink\": true})});</script>"
      ]
     },
     "metadata": {},
     "output_type": "display_data"
    }
   ],
   "source": [
    "for location in locations:\n",
    "    dfL = df[df['location']==location]\n",
    "    trace = go.Scatter(\n",
    "        x = dfL['date_time'],y = dfL['hour'],\n",
    "        name=location,\n",
    "        marker=dict(\n",
    "            symbol='circle',\n",
    "            sizemode='area',\n",
    "            sizeref=0.2,\n",
    "            size=dfL['Images'],\n",
    "            line=dict(\n",
    "                width=2\n",
    "            ),),\n",
    "        mode = \"markers\",\n",
    "        text=dfL['hover_text'],\n",
    "    )\n",
    "    data.append(trace)\n",
    "    \n",
    "layout = dict(title = 'Number of bees images per date, approx. hour and location',\n",
    "          xaxis = dict(title = 'Date', showticklabels=True), \n",
    "          yaxis = dict(title = 'Hour'),\n",
    "          hovermode = 'closest'\n",
    "         )\n",
    "fig = dict(data = data, layout = layout)\n",
    "\n",
    "iplot(fig, filename='images-date_time')"
   ]
  },
  {
   "cell_type": "code",
   "execution_count": 9,
   "metadata": {
    "collapsed": false
   },
   "outputs": [
    {
     "data": {
      "application/vnd.plotly.v1+json": {
       "data": [
        {
         "marker": {
          "line": {
           "width": 2
          },
          "size": [
           433,
           24,
           29,
           19,
           28,
           181,
           23
          ],
          "sizemode": "area",
          "sizeref": 0.2,
          "symbol": "circle"
         },
         "mode": "markers",
         "name": "Alvin, TX, USA",
         "text": [
          "Date/time: 2018-08-17 17:50:00<br>Hour: 17<br>Location: Alvin, TX, USA<br>Images: 433",
          "Date/time: 2018-08-18 12:36:00<br>Hour: 12<br>Location: Alvin, TX, USA<br>Images: 24",
          "Date/time: 2018-08-21 13:49:00<br>Hour: 13<br>Location: Alvin, TX, USA<br>Images: 29",
          "Date/time: 2018-08-28 09:54:00<br>Hour: 9<br>Location: Alvin, TX, USA<br>Images: 19",
          "Date/time: 2018-08-28 10:53:00<br>Hour: 10<br>Location: Alvin, TX, USA<br>Images: 28",
          "Date/time: 2018-08-28 16:07:00<br>Hour: 16<br>Location: Alvin, TX, USA<br>Images: 181",
          "Date/time: 2018-09-08 16:08:00<br>Hour: 16<br>Location: Alvin, TX, USA<br>Images: 23"
         ],
         "type": "scatter",
         "uid": "cefb16a2-de32-11e8-aa96-000d3a6173df",
         "x": [
          "2018-08-17 17:50:00",
          "2018-08-18 12:36:00",
          "2018-08-21 13:49:00",
          "2018-08-28 09:54:00",
          "2018-08-28 10:53:00",
          "2018-08-28 16:07:00",
          "2018-09-08 16:08:00"
         ],
         "y": [
          17,
          12,
          13,
          9,
          10,
          16,
          16
         ]
        },
        {
         "marker": {
          "line": {
           "width": 2
          },
          "size": [
           579
          ],
          "sizemode": "area",
          "sizeref": 0.2,
          "symbol": "circle"
         },
         "mode": "markers",
         "name": "Athens, GA, USA",
         "text": [
          "Date/time: 2018-08-21 15:56:00<br>Hour: 15<br>Location: Athens, GA, USA<br>Images: 579"
         ],
         "type": "scatter",
         "uid": "cefb16a3-de32-11e8-96cc-000d3a6173df",
         "x": [
          "2018-08-21 15:56:00"
         ],
         "y": [
          15
         ]
        },
        {
         "marker": {
          "line": {
           "width": 2
          },
          "size": [
           472
          ],
          "sizemode": "area",
          "sizeref": 0.2,
          "symbol": "circle"
         },
         "mode": "markers",
         "name": "Athens, Georgia, USA",
         "text": [
          "Date/time: 2018-08-18 12:30:00<br>Hour: 12<br>Location: Athens, Georgia, USA<br>Images: 472"
         ],
         "type": "scatter",
         "uid": "cefb16a4-de32-11e8-9c18-000d3a6173df",
         "x": [
          "2018-08-18 12:30:00"
         ],
         "y": [
          12
         ]
        },
        {
         "marker": {
          "line": {
           "width": 2
          },
          "size": [
           340,
           149,
           12,
           435,
           37
          ],
          "sizemode": "area",
          "sizeref": 0.2,
          "symbol": "circle"
         },
         "mode": "markers",
         "name": "Des Moines, IA, USA",
         "text": [
          "Date/time: 2018-08-19 12:46:00<br>Hour: 12<br>Location: Des Moines, IA, USA<br>Images: 340",
          "Date/time: 2018-08-19 15:46:00<br>Hour: 15<br>Location: Des Moines, IA, USA<br>Images: 149",
          "Date/time: 2018-08-19 18:30:00<br>Hour: 18<br>Location: Des Moines, IA, USA<br>Images: 12",
          "Date/time: 2018-08-21 09:00:00<br>Hour: 9<br>Location: Des Moines, IA, USA<br>Images: 435",
          "Date/time: 2018-08-21 09:30:00<br>Hour: 9<br>Location: Des Moines, IA, USA<br>Images: 37"
         ],
         "type": "scatter",
         "uid": "cefb16a5-de32-11e8-a2e6-000d3a6173df",
         "x": [
          "2018-08-19 12:46:00",
          "2018-08-19 15:46:00",
          "2018-08-19 18:30:00",
          "2018-08-21 09:00:00",
          "2018-08-21 09:30:00"
         ],
         "y": [
          12,
          15,
          18,
          9,
          9
         ]
        },
        {
         "marker": {
          "line": {
           "width": 2
          },
          "size": [
           92
          ],
          "sizemode": "area",
          "sizeref": 0.2,
          "symbol": "circle"
         },
         "mode": "markers",
         "name": "Keene, NH, USA",
         "text": [
          "Date/time: 2018-08-25 14:00:00<br>Hour: 14<br>Location: Keene, NH, USA<br>Images: 92"
         ],
         "type": "scatter",
         "uid": "cefb16a6-de32-11e8-bc1b-000d3a6173df",
         "x": [
          "2018-08-25 14:00:00"
         ],
         "y": [
          14
         ]
        },
        {
         "marker": {
          "line": {
           "width": 2
          },
          "size": [
           170
          ],
          "sizemode": "area",
          "sizeref": 0.2,
          "symbol": "circle"
         },
         "mode": "markers",
         "name": "New Orleans, LA, USA",
         "text": [
          "Date/time: 2018-08-16 08:20:00<br>Hour: 8<br>Location: New Orleans, LA, USA<br>Images: 170"
         ],
         "type": "scatter",
         "uid": "cefb16a7-de32-11e8-9d02-000d3a6173df",
         "x": [
          "2018-08-16 08:20:00"
         ],
         "y": [
          8
         ]
        },
        {
         "marker": {
          "line": {
           "width": 2
          },
          "size": [
           15,
           13,
           10,
           111
          ],
          "sizemode": "area",
          "sizeref": 0.2,
          "symbol": "circle"
         },
         "mode": "markers",
         "name": "San Jose, CA, USA",
         "text": [
          "Date/time: 2018-08-20 09:47:00<br>Hour: 9<br>Location: San Jose, CA, USA<br>Images: 15",
          "Date/time: 2018-08-20 09:53:00<br>Hour: 9<br>Location: San Jose, CA, USA<br>Images: 13",
          "Date/time: 2018-08-20 10:03:00<br>Hour: 10<br>Location: San Jose, CA, USA<br>Images: 10",
          "Date/time: 2018-08-20 11:55:00<br>Hour: 11<br>Location: San Jose, CA, USA<br>Images: 111"
         ],
         "type": "scatter",
         "uid": "cefb16a8-de32-11e8-b467-000d3a6173df",
         "x": [
          "2018-08-20 09:47:00",
          "2018-08-20 09:53:00",
          "2018-08-20 10:03:00",
          "2018-08-20 11:55:00"
         ],
         "y": [
          9,
          9,
          10,
          11
         ]
        },
        {
         "marker": {
          "line": {
           "width": 2
          },
          "size": [
           114,
           248,
           50,
           303,
           3,
           15,
           18,
           460,
           124,
           19,
           303,
           104,
           211,
           11,
           7,
           10
          ],
          "sizemode": "area",
          "sizeref": 0.2,
          "symbol": "circle"
         },
         "mode": "markers",
         "name": "Saratoga, CA, USA",
         "text": [
          "Date/time: 2018-07-02 13:57:00<br>Hour: 13<br>Location: Saratoga, CA, USA<br>Images: 114",
          "Date/time: 2018-07-02 15:30:00<br>Hour: 15<br>Location: Saratoga, CA, USA<br>Images: 248",
          "Date/time: 2018-07-03 16:10:00<br>Hour: 16<br>Location: Saratoga, CA, USA<br>Images: 50",
          "Date/time: 2018-07-07 12:56:00<br>Hour: 12<br>Location: Saratoga, CA, USA<br>Images: 303",
          "Date/time: 2018-07-07 14:00:00<br>Hour: 14<br>Location: Saratoga, CA, USA<br>Images: 3",
          "Date/time: 2018-07-07 14:35:00<br>Hour: 14<br>Location: Saratoga, CA, USA<br>Images: 15",
          "Date/time: 2018-08-06 11:25:00<br>Hour: 11<br>Location: Saratoga, CA, USA<br>Images: 18",
          "Date/time: 2018-08-06 13:19:00<br>Hour: 13<br>Location: Saratoga, CA, USA<br>Images: 460",
          "Date/time: 2018-08-06 13:21:00<br>Hour: 13<br>Location: Saratoga, CA, USA<br>Images: 124",
          "Date/time: 2018-08-06 14:48:00<br>Hour: 14<br>Location: Saratoga, CA, USA<br>Images: 19",
          "Date/time: 2018-08-06 19:19:00<br>Hour: 19<br>Location: Saratoga, CA, USA<br>Images: 303",
          "Date/time: 2018-08-08 21:13:00<br>Hour: 21<br>Location: Saratoga, CA, USA<br>Images: 104",
          "Date/time: 2018-08-10 13:54:00<br>Hour: 13<br>Location: Saratoga, CA, USA<br>Images: 211",
          "Date/time: 2018-08-13 11:00:00<br>Hour: 11<br>Location: Saratoga, CA, USA<br>Images: 11",
          "Date/time: 2018-08-13 11:11:00<br>Hour: 11<br>Location: Saratoga, CA, USA<br>Images: 7",
          "Date/time: 2018-08-13 11:20:00<br>Hour: 11<br>Location: Saratoga, CA, USA<br>Images: 10"
         ],
         "type": "scatter",
         "uid": "cefb16a9-de32-11e8-b525-000d3a6173df",
         "x": [
          "2018-07-02 13:57:00",
          "2018-07-02 15:30:00",
          "2018-07-03 16:10:00",
          "2018-07-07 12:56:00",
          "2018-07-07 14:00:00",
          "2018-07-07 14:35:00",
          "2018-08-06 11:25:00",
          "2018-08-06 13:19:00",
          "2018-08-06 13:21:00",
          "2018-08-06 14:48:00",
          "2018-08-06 19:19:00",
          "2018-08-08 21:13:00",
          "2018-08-10 13:54:00",
          "2018-08-13 11:00:00",
          "2018-08-13 11:11:00",
          "2018-08-13 11:20:00"
         ],
         "y": [
          13,
          15,
          16,
          12,
          14,
          14,
          11,
          13,
          13,
          14,
          19,
          21,
          13,
          11,
          11,
          11
         ]
        }
       ],
       "layout": {
        "hovermode": "closest",
        "title": "Number of bees images per date, approx. hour and location",
        "xaxis": {
         "showticklabels": true,
         "title": "Date"
        },
        "yaxis": {
         "title": "Hour"
        }
       }
      },
      "text/html": [
       "<div id=\"0d8a7c5c-27f5-4bdf-b4b0-3de031568a96\" style=\"height: 525px; width: 100%;\" class=\"plotly-graph-div\"></div><script type=\"text/javascript\">require([\"plotly\"], function(Plotly) { window.PLOTLYENV=window.PLOTLYENV || {};window.PLOTLYENV.BASE_URL=\"https://plot.ly\";Plotly.newPlot(\"0d8a7c5c-27f5-4bdf-b4b0-3de031568a96\", [{\"x\": [\"2018-08-17 17:50:00\", \"2018-08-18 12:36:00\", \"2018-08-21 13:49:00\", \"2018-08-28 09:54:00\", \"2018-08-28 10:53:00\", \"2018-08-28 16:07:00\", \"2018-09-08 16:08:00\"], \"y\": [17, 12, 13, 9, 10, 16, 16], \"name\": \"Alvin, TX, USA\", \"mode\": \"markers\", \"text\": [\"Date/time: 2018-08-17 17:50:00<br>Hour: 17<br>Location: Alvin, TX, USA<br>Images: 433\", \"Date/time: 2018-08-18 12:36:00<br>Hour: 12<br>Location: Alvin, TX, USA<br>Images: 24\", \"Date/time: 2018-08-21 13:49:00<br>Hour: 13<br>Location: Alvin, TX, USA<br>Images: 29\", \"Date/time: 2018-08-28 09:54:00<br>Hour: 9<br>Location: Alvin, TX, USA<br>Images: 19\", \"Date/time: 2018-08-28 10:53:00<br>Hour: 10<br>Location: Alvin, TX, USA<br>Images: 28\", \"Date/time: 2018-08-28 16:07:00<br>Hour: 16<br>Location: Alvin, TX, USA<br>Images: 181\", \"Date/time: 2018-09-08 16:08:00<br>Hour: 16<br>Location: Alvin, TX, USA<br>Images: 23\"], \"type\": \"scatter\", \"marker\": {\"size\": [433, 24, 29, 19, 28, 181, 23], \"sizeref\": 0.2, \"sizemode\": \"area\", \"symbol\": \"circle\", \"line\": {\"width\": 2}}, \"uid\": \"cf0528b6-de32-11e8-8456-000d3a6173df\"}, {\"x\": [\"2018-08-21 15:56:00\"], \"y\": [15], \"name\": \"Athens, GA, USA\", \"mode\": \"markers\", \"text\": [\"Date/time: 2018-08-21 15:56:00<br>Hour: 15<br>Location: Athens, GA, USA<br>Images: 579\"], \"type\": \"scatter\", \"marker\": {\"size\": [579], \"sizeref\": 0.2, \"sizemode\": \"area\", \"symbol\": \"circle\", \"line\": {\"width\": 2}}, \"uid\": \"cf0528b7-de32-11e8-8c39-000d3a6173df\"}, {\"x\": [\"2018-08-18 12:30:00\"], \"y\": [12], \"name\": \"Athens, Georgia, USA\", \"mode\": \"markers\", \"text\": [\"Date/time: 2018-08-18 12:30:00<br>Hour: 12<br>Location: Athens, Georgia, USA<br>Images: 472\"], \"type\": \"scatter\", \"marker\": {\"size\": [472], \"sizeref\": 0.2, \"sizemode\": \"area\", \"symbol\": \"circle\", \"line\": {\"width\": 2}}, \"uid\": \"cf0528b8-de32-11e8-8c21-000d3a6173df\"}, {\"x\": [\"2018-08-19 12:46:00\", \"2018-08-19 15:46:00\", \"2018-08-19 18:30:00\", \"2018-08-21 09:00:00\", \"2018-08-21 09:30:00\"], \"y\": [12, 15, 18, 9, 9], \"name\": \"Des Moines, IA, USA\", \"mode\": \"markers\", \"text\": [\"Date/time: 2018-08-19 12:46:00<br>Hour: 12<br>Location: Des Moines, IA, USA<br>Images: 340\", \"Date/time: 2018-08-19 15:46:00<br>Hour: 15<br>Location: Des Moines, IA, USA<br>Images: 149\", \"Date/time: 2018-08-19 18:30:00<br>Hour: 18<br>Location: Des Moines, IA, USA<br>Images: 12\", \"Date/time: 2018-08-21 09:00:00<br>Hour: 9<br>Location: Des Moines, IA, USA<br>Images: 435\", \"Date/time: 2018-08-21 09:30:00<br>Hour: 9<br>Location: Des Moines, IA, USA<br>Images: 37\"], \"type\": \"scatter\", \"marker\": {\"size\": [340, 149, 12, 435, 37], \"sizeref\": 0.2, \"sizemode\": \"area\", \"symbol\": \"circle\", \"line\": {\"width\": 2}}, \"uid\": \"cf0528b9-de32-11e8-9f33-000d3a6173df\"}, {\"x\": [\"2018-08-25 14:00:00\"], \"y\": [14], \"name\": \"Keene, NH, USA\", \"mode\": \"markers\", \"text\": [\"Date/time: 2018-08-25 14:00:00<br>Hour: 14<br>Location: Keene, NH, USA<br>Images: 92\"], \"type\": \"scatter\", \"marker\": {\"size\": [92], \"sizeref\": 0.2, \"sizemode\": \"area\", \"symbol\": \"circle\", \"line\": {\"width\": 2}}, \"uid\": \"cf0528ba-de32-11e8-81cb-000d3a6173df\"}, {\"x\": [\"2018-08-16 08:20:00\"], \"y\": [8], \"name\": \"New Orleans, LA, USA\", \"mode\": \"markers\", \"text\": [\"Date/time: 2018-08-16 08:20:00<br>Hour: 8<br>Location: New Orleans, LA, USA<br>Images: 170\"], \"type\": \"scatter\", \"marker\": {\"size\": [170], \"sizeref\": 0.2, \"sizemode\": \"area\", \"symbol\": \"circle\", \"line\": {\"width\": 2}}, \"uid\": \"cf0528bb-de32-11e8-bc70-000d3a6173df\"}, {\"x\": [\"2018-08-20 09:47:00\", \"2018-08-20 09:53:00\", \"2018-08-20 10:03:00\", \"2018-08-20 11:55:00\"], \"y\": [9, 9, 10, 11], \"name\": \"San Jose, CA, USA\", \"mode\": \"markers\", \"text\": [\"Date/time: 2018-08-20 09:47:00<br>Hour: 9<br>Location: San Jose, CA, USA<br>Images: 15\", \"Date/time: 2018-08-20 09:53:00<br>Hour: 9<br>Location: San Jose, CA, USA<br>Images: 13\", \"Date/time: 2018-08-20 10:03:00<br>Hour: 10<br>Location: San Jose, CA, USA<br>Images: 10\", \"Date/time: 2018-08-20 11:55:00<br>Hour: 11<br>Location: San Jose, CA, USA<br>Images: 111\"], \"type\": \"scatter\", \"marker\": {\"size\": [15, 13, 10, 111], \"sizeref\": 0.2, \"sizemode\": \"area\", \"symbol\": \"circle\", \"line\": {\"width\": 2}}, \"uid\": \"cf0528bc-de32-11e8-bdd2-000d3a6173df\"}, {\"x\": [\"2018-07-02 13:57:00\", \"2018-07-02 15:30:00\", \"2018-07-03 16:10:00\", \"2018-07-07 12:56:00\", \"2018-07-07 14:00:00\", \"2018-07-07 14:35:00\", \"2018-08-06 11:25:00\", \"2018-08-06 13:19:00\", \"2018-08-06 13:21:00\", \"2018-08-06 14:48:00\", \"2018-08-06 19:19:00\", \"2018-08-08 21:13:00\", \"2018-08-10 13:54:00\", \"2018-08-13 11:00:00\", \"2018-08-13 11:11:00\", \"2018-08-13 11:20:00\"], \"y\": [13, 15, 16, 12, 14, 14, 11, 13, 13, 14, 19, 21, 13, 11, 11, 11], \"name\": \"Saratoga, CA, USA\", \"mode\": \"markers\", \"text\": [\"Date/time: 2018-07-02 13:57:00<br>Hour: 13<br>Location: Saratoga, CA, USA<br>Images: 114\", \"Date/time: 2018-07-02 15:30:00<br>Hour: 15<br>Location: Saratoga, CA, USA<br>Images: 248\", \"Date/time: 2018-07-03 16:10:00<br>Hour: 16<br>Location: Saratoga, CA, USA<br>Images: 50\", \"Date/time: 2018-07-07 12:56:00<br>Hour: 12<br>Location: Saratoga, CA, USA<br>Images: 303\", \"Date/time: 2018-07-07 14:00:00<br>Hour: 14<br>Location: Saratoga, CA, USA<br>Images: 3\", \"Date/time: 2018-07-07 14:35:00<br>Hour: 14<br>Location: Saratoga, CA, USA<br>Images: 15\", \"Date/time: 2018-08-06 11:25:00<br>Hour: 11<br>Location: Saratoga, CA, USA<br>Images: 18\", \"Date/time: 2018-08-06 13:19:00<br>Hour: 13<br>Location: Saratoga, CA, USA<br>Images: 460\", \"Date/time: 2018-08-06 13:21:00<br>Hour: 13<br>Location: Saratoga, CA, USA<br>Images: 124\", \"Date/time: 2018-08-06 14:48:00<br>Hour: 14<br>Location: Saratoga, CA, USA<br>Images: 19\", \"Date/time: 2018-08-06 19:19:00<br>Hour: 19<br>Location: Saratoga, CA, USA<br>Images: 303\", \"Date/time: 2018-08-08 21:13:00<br>Hour: 21<br>Location: Saratoga, CA, USA<br>Images: 104\", \"Date/time: 2018-08-10 13:54:00<br>Hour: 13<br>Location: Saratoga, CA, USA<br>Images: 211\", \"Date/time: 2018-08-13 11:00:00<br>Hour: 11<br>Location: Saratoga, CA, USA<br>Images: 11\", \"Date/time: 2018-08-13 11:11:00<br>Hour: 11<br>Location: Saratoga, CA, USA<br>Images: 7\", \"Date/time: 2018-08-13 11:20:00<br>Hour: 11<br>Location: Saratoga, CA, USA<br>Images: 10\"], \"type\": \"scatter\", \"marker\": {\"size\": [114, 248, 50, 303, 3, 15, 18, 460, 124, 19, 303, 104, 211, 11, 7, 10], \"sizeref\": 0.2, \"sizemode\": \"area\", \"symbol\": \"circle\", \"line\": {\"width\": 2}}, \"uid\": \"cf0528bd-de32-11e8-84db-000d3a6173df\"}], {\"title\": \"Number of bees images per date, approx. hour and location\", \"xaxis\": {\"title\": \"Date\", \"showticklabels\": true}, \"hovermode\": \"closest\", \"yaxis\": {\"title\": \"Hour\"}}, {\"linkText\": \"Export to plot.ly\", \"showLink\": true})});</script>"
      ],
      "text/vnd.plotly.v1+html": [
       "<div id=\"0d8a7c5c-27f5-4bdf-b4b0-3de031568a96\" style=\"height: 525px; width: 100%;\" class=\"plotly-graph-div\"></div><script type=\"text/javascript\">require([\"plotly\"], function(Plotly) { window.PLOTLYENV=window.PLOTLYENV || {};window.PLOTLYENV.BASE_URL=\"https://plot.ly\";Plotly.newPlot(\"0d8a7c5c-27f5-4bdf-b4b0-3de031568a96\", [{\"x\": [\"2018-08-17 17:50:00\", \"2018-08-18 12:36:00\", \"2018-08-21 13:49:00\", \"2018-08-28 09:54:00\", \"2018-08-28 10:53:00\", \"2018-08-28 16:07:00\", \"2018-09-08 16:08:00\"], \"y\": [17, 12, 13, 9, 10, 16, 16], \"name\": \"Alvin, TX, USA\", \"mode\": \"markers\", \"text\": [\"Date/time: 2018-08-17 17:50:00<br>Hour: 17<br>Location: Alvin, TX, USA<br>Images: 433\", \"Date/time: 2018-08-18 12:36:00<br>Hour: 12<br>Location: Alvin, TX, USA<br>Images: 24\", \"Date/time: 2018-08-21 13:49:00<br>Hour: 13<br>Location: Alvin, TX, USA<br>Images: 29\", \"Date/time: 2018-08-28 09:54:00<br>Hour: 9<br>Location: Alvin, TX, USA<br>Images: 19\", \"Date/time: 2018-08-28 10:53:00<br>Hour: 10<br>Location: Alvin, TX, USA<br>Images: 28\", \"Date/time: 2018-08-28 16:07:00<br>Hour: 16<br>Location: Alvin, TX, USA<br>Images: 181\", \"Date/time: 2018-09-08 16:08:00<br>Hour: 16<br>Location: Alvin, TX, USA<br>Images: 23\"], \"type\": \"scatter\", \"marker\": {\"size\": [433, 24, 29, 19, 28, 181, 23], \"sizeref\": 0.2, \"sizemode\": \"area\", \"symbol\": \"circle\", \"line\": {\"width\": 2}}, \"uid\": \"cf0528b6-de32-11e8-8456-000d3a6173df\"}, {\"x\": [\"2018-08-21 15:56:00\"], \"y\": [15], \"name\": \"Athens, GA, USA\", \"mode\": \"markers\", \"text\": [\"Date/time: 2018-08-21 15:56:00<br>Hour: 15<br>Location: Athens, GA, USA<br>Images: 579\"], \"type\": \"scatter\", \"marker\": {\"size\": [579], \"sizeref\": 0.2, \"sizemode\": \"area\", \"symbol\": \"circle\", \"line\": {\"width\": 2}}, \"uid\": \"cf0528b7-de32-11e8-8c39-000d3a6173df\"}, {\"x\": [\"2018-08-18 12:30:00\"], \"y\": [12], \"name\": \"Athens, Georgia, USA\", \"mode\": \"markers\", \"text\": [\"Date/time: 2018-08-18 12:30:00<br>Hour: 12<br>Location: Athens, Georgia, USA<br>Images: 472\"], \"type\": \"scatter\", \"marker\": {\"size\": [472], \"sizeref\": 0.2, \"sizemode\": \"area\", \"symbol\": \"circle\", \"line\": {\"width\": 2}}, \"uid\": \"cf0528b8-de32-11e8-8c21-000d3a6173df\"}, {\"x\": [\"2018-08-19 12:46:00\", \"2018-08-19 15:46:00\", \"2018-08-19 18:30:00\", \"2018-08-21 09:00:00\", \"2018-08-21 09:30:00\"], \"y\": [12, 15, 18, 9, 9], \"name\": \"Des Moines, IA, USA\", \"mode\": \"markers\", \"text\": [\"Date/time: 2018-08-19 12:46:00<br>Hour: 12<br>Location: Des Moines, IA, USA<br>Images: 340\", \"Date/time: 2018-08-19 15:46:00<br>Hour: 15<br>Location: Des Moines, IA, USA<br>Images: 149\", \"Date/time: 2018-08-19 18:30:00<br>Hour: 18<br>Location: Des Moines, IA, USA<br>Images: 12\", \"Date/time: 2018-08-21 09:00:00<br>Hour: 9<br>Location: Des Moines, IA, USA<br>Images: 435\", \"Date/time: 2018-08-21 09:30:00<br>Hour: 9<br>Location: Des Moines, IA, USA<br>Images: 37\"], \"type\": \"scatter\", \"marker\": {\"size\": [340, 149, 12, 435, 37], \"sizeref\": 0.2, \"sizemode\": \"area\", \"symbol\": \"circle\", \"line\": {\"width\": 2}}, \"uid\": \"cf0528b9-de32-11e8-9f33-000d3a6173df\"}, {\"x\": [\"2018-08-25 14:00:00\"], \"y\": [14], \"name\": \"Keene, NH, USA\", \"mode\": \"markers\", \"text\": [\"Date/time: 2018-08-25 14:00:00<br>Hour: 14<br>Location: Keene, NH, USA<br>Images: 92\"], \"type\": \"scatter\", \"marker\": {\"size\": [92], \"sizeref\": 0.2, \"sizemode\": \"area\", \"symbol\": \"circle\", \"line\": {\"width\": 2}}, \"uid\": \"cf0528ba-de32-11e8-81cb-000d3a6173df\"}, {\"x\": [\"2018-08-16 08:20:00\"], \"y\": [8], \"name\": \"New Orleans, LA, USA\", \"mode\": \"markers\", \"text\": [\"Date/time: 2018-08-16 08:20:00<br>Hour: 8<br>Location: New Orleans, LA, USA<br>Images: 170\"], \"type\": \"scatter\", \"marker\": {\"size\": [170], \"sizeref\": 0.2, \"sizemode\": \"area\", \"symbol\": \"circle\", \"line\": {\"width\": 2}}, \"uid\": \"cf0528bb-de32-11e8-bc70-000d3a6173df\"}, {\"x\": [\"2018-08-20 09:47:00\", \"2018-08-20 09:53:00\", \"2018-08-20 10:03:00\", \"2018-08-20 11:55:00\"], \"y\": [9, 9, 10, 11], \"name\": \"San Jose, CA, USA\", \"mode\": \"markers\", \"text\": [\"Date/time: 2018-08-20 09:47:00<br>Hour: 9<br>Location: San Jose, CA, USA<br>Images: 15\", \"Date/time: 2018-08-20 09:53:00<br>Hour: 9<br>Location: San Jose, CA, USA<br>Images: 13\", \"Date/time: 2018-08-20 10:03:00<br>Hour: 10<br>Location: San Jose, CA, USA<br>Images: 10\", \"Date/time: 2018-08-20 11:55:00<br>Hour: 11<br>Location: San Jose, CA, USA<br>Images: 111\"], \"type\": \"scatter\", \"marker\": {\"size\": [15, 13, 10, 111], \"sizeref\": 0.2, \"sizemode\": \"area\", \"symbol\": \"circle\", \"line\": {\"width\": 2}}, \"uid\": \"cf0528bc-de32-11e8-bdd2-000d3a6173df\"}, {\"x\": [\"2018-07-02 13:57:00\", \"2018-07-02 15:30:00\", \"2018-07-03 16:10:00\", \"2018-07-07 12:56:00\", \"2018-07-07 14:00:00\", \"2018-07-07 14:35:00\", \"2018-08-06 11:25:00\", \"2018-08-06 13:19:00\", \"2018-08-06 13:21:00\", \"2018-08-06 14:48:00\", \"2018-08-06 19:19:00\", \"2018-08-08 21:13:00\", \"2018-08-10 13:54:00\", \"2018-08-13 11:00:00\", \"2018-08-13 11:11:00\", \"2018-08-13 11:20:00\"], \"y\": [13, 15, 16, 12, 14, 14, 11, 13, 13, 14, 19, 21, 13, 11, 11, 11], \"name\": \"Saratoga, CA, USA\", \"mode\": \"markers\", \"text\": [\"Date/time: 2018-07-02 13:57:00<br>Hour: 13<br>Location: Saratoga, CA, USA<br>Images: 114\", \"Date/time: 2018-07-02 15:30:00<br>Hour: 15<br>Location: Saratoga, CA, USA<br>Images: 248\", \"Date/time: 2018-07-03 16:10:00<br>Hour: 16<br>Location: Saratoga, CA, USA<br>Images: 50\", \"Date/time: 2018-07-07 12:56:00<br>Hour: 12<br>Location: Saratoga, CA, USA<br>Images: 303\", \"Date/time: 2018-07-07 14:00:00<br>Hour: 14<br>Location: Saratoga, CA, USA<br>Images: 3\", \"Date/time: 2018-07-07 14:35:00<br>Hour: 14<br>Location: Saratoga, CA, USA<br>Images: 15\", \"Date/time: 2018-08-06 11:25:00<br>Hour: 11<br>Location: Saratoga, CA, USA<br>Images: 18\", \"Date/time: 2018-08-06 13:19:00<br>Hour: 13<br>Location: Saratoga, CA, USA<br>Images: 460\", \"Date/time: 2018-08-06 13:21:00<br>Hour: 13<br>Location: Saratoga, CA, USA<br>Images: 124\", \"Date/time: 2018-08-06 14:48:00<br>Hour: 14<br>Location: Saratoga, CA, USA<br>Images: 19\", \"Date/time: 2018-08-06 19:19:00<br>Hour: 19<br>Location: Saratoga, CA, USA<br>Images: 303\", \"Date/time: 2018-08-08 21:13:00<br>Hour: 21<br>Location: Saratoga, CA, USA<br>Images: 104\", \"Date/time: 2018-08-10 13:54:00<br>Hour: 13<br>Location: Saratoga, CA, USA<br>Images: 211\", \"Date/time: 2018-08-13 11:00:00<br>Hour: 11<br>Location: Saratoga, CA, USA<br>Images: 11\", \"Date/time: 2018-08-13 11:11:00<br>Hour: 11<br>Location: Saratoga, CA, USA<br>Images: 7\", \"Date/time: 2018-08-13 11:20:00<br>Hour: 11<br>Location: Saratoga, CA, USA<br>Images: 10\"], \"type\": \"scatter\", \"marker\": {\"size\": [114, 248, 50, 303, 3, 15, 18, 460, 124, 19, 303, 104, 211, 11, 7, 10], \"sizeref\": 0.2, \"sizemode\": \"area\", \"symbol\": \"circle\", \"line\": {\"width\": 2}}, \"uid\": \"cf0528bd-de32-11e8-84db-000d3a6173df\"}], {\"title\": \"Number of bees images per date, approx. hour and location\", \"xaxis\": {\"title\": \"Date\", \"showticklabels\": true}, \"hovermode\": \"closest\", \"yaxis\": {\"title\": \"Hour\"}}, {\"linkText\": \"Export to plot.ly\", \"showLink\": true})});</script>"
      ]
     },
     "metadata": {},
     "output_type": "display_data"
    }
   ],
   "source": [
    "iplot(fig)"
   ]
  },
  {
   "cell_type": "code",
   "execution_count": null,
   "metadata": {
    "collapsed": true
   },
   "outputs": [],
   "source": []
  }
 ],
 "metadata": {
  "anaconda-cloud": {},
  "kernelspec": {
   "display_name": "Python [tfk]",
   "language": "python",
   "name": "Python [tfk]"
  },
  "language_info": {
   "codemirror_mode": {
    "name": "ipython",
    "version": 3
   },
   "file_extension": ".py",
   "mimetype": "text/x-python",
   "name": "python",
   "nbconvert_exporter": "python",
   "pygments_lexer": "ipython3",
   "version": "3.5.5"
  }
 },
 "nbformat": 4,
 "nbformat_minor": 0
}
